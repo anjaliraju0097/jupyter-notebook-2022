{
 "cells": [
  {
   "cell_type": "code",
   "execution_count": 1,
   "id": "fe360f6b",
   "metadata": {},
   "outputs": [],
   "source": [
    "# int,boolean, string---  are immutable"
   ]
  },
  {
   "cell_type": "code",
   "execution_count": 2,
   "id": "a18916f1",
   "metadata": {},
   "outputs": [
    {
     "ename": "SyntaxError",
     "evalue": "invalid syntax (Temp/ipykernel_3020/20083333.py, line 3)",
     "output_type": "error",
     "traceback": [
      "\u001b[1;36m  File \u001b[1;32m\"C:\\Users\\HP\\AppData\\Local\\Temp/ipykernel_3020/20083333.py\"\u001b[1;36m, line \u001b[1;32m3\u001b[0m\n\u001b[1;33m    print type(t)\u001b[0m\n\u001b[1;37m          ^\u001b[0m\n\u001b[1;31mSyntaxError\u001b[0m\u001b[1;31m:\u001b[0m invalid syntax\n"
     ]
    }
   ],
   "source": [
    "# Can not reassign \n",
    "t= \"Tutorialspoint\"\n",
    "print type(t)\n",
    "t[0] = \"M\""
   ]
  },
  {
   "cell_type": "code",
   "execution_count": 5,
   "id": "85170309",
   "metadata": {},
   "outputs": [
    {
     "name": "stdout",
     "output_type": "stream",
     "text": [
      "b = 2397615953328\n",
      "a = 2397616261488\n",
      "n = 2397616113840\n",
      "a = 2397616261488\n",
      "n = 2397616113840\n"
     ]
    }
   ],
   "source": [
    "x = 'banana'\n",
    "for idx in range (0,5):\n",
    "    print(x[idx], \"=\", id(x[idx]))"
   ]
  },
  {
   "cell_type": "markdown",
   "id": "a2cecca7",
   "metadata": {},
   "source": [
    "Numpy--Library python numbers(if u want to put img use numpy),bcz list is low\n",
    "y is list slo--list use general info only\n",
    "deep learning,neural network --computation intensive\n"
   ]
  },
  {
   "cell_type": "code",
   "execution_count": 6,
   "id": "c1cb132e",
   "metadata": {},
   "outputs": [],
   "source": [
    "#types of array-- 1d, 2d,3d arrays are there.(d- dimension)"
   ]
  },
  {
   "cell_type": "code",
   "execution_count": 10,
   "id": "96bcc50c",
   "metadata": {},
   "outputs": [],
   "source": [
    "#how to import num\n",
    "import numpy as nppy\n",
    "#1D array\n"
   ]
  },
  {
   "cell_type": "code",
   "execution_count": 9,
   "id": "22f9d4e8",
   "metadata": {},
   "outputs": [],
   "source": [
    "#create an array with list\n"
   ]
  },
  {
   "cell_type": "code",
   "execution_count": 18,
   "id": "726453ce",
   "metadata": {},
   "outputs": [],
   "source": [
    "l1=[11,12,13,14]"
   ]
  },
  {
   "cell_type": "code",
   "execution_count": 19,
   "id": "3d53565c",
   "metadata": {},
   "outputs": [],
   "source": [
    "n1=np.array(l1)"
   ]
  },
  {
   "cell_type": "code",
   "execution_count": 21,
   "id": "dcdad374",
   "metadata": {},
   "outputs": [
    {
     "data": {
      "text/plain": [
       "numpy.ndarray"
      ]
     },
     "execution_count": 21,
     "metadata": {},
     "output_type": "execute_result"
    }
   ],
   "source": [
    "n1\n"
   ]
  },
  {
   "cell_type": "code",
   "execution_count": 22,
   "id": "33a1c7e6",
   "metadata": {},
   "outputs": [
    {
     "data": {
      "text/plain": [
       "numpy.ndarray"
      ]
     },
     "execution_count": 22,
     "metadata": {},
     "output_type": "execute_result"
    }
   ],
   "source": [
    "type(n1) #shows the type of the array( type is the numpy arraynumpy array)"
   ]
  },
  {
   "cell_type": "code",
   "execution_count": 23,
   "id": "90a4f068",
   "metadata": {},
   "outputs": [
    {
     "data": {
      "text/plain": [
       "(4,)"
      ]
     },
     "execution_count": 23,
     "metadata": {},
     "output_type": "execute_result"
    }
   ],
   "source": [
    "n1.shape #shows the column of the element ( it showing 4 because it is one dimensional array)"
   ]
  },
  {
   "cell_type": "code",
   "execution_count": 25,
   "id": "b515468b",
   "metadata": {},
   "outputs": [
    {
     "data": {
      "text/plain": [
       "1"
      ]
     },
     "execution_count": 25,
     "metadata": {},
     "output_type": "execute_result"
    }
   ],
   "source": [
    "n1.ndim "
   ]
  },
  {
   "cell_type": "code",
   "execution_count": 26,
   "id": "380a6e26",
   "metadata": {},
   "outputs": [
    {
     "data": {
      "text/plain": [
       "4"
      ]
     },
     "execution_count": 26,
     "metadata": {},
     "output_type": "execute_result"
    }
   ],
   "source": [
    "n1.itemsize #item size of an element or a particular element"
   ]
  },
  {
   "cell_type": "code",
   "execution_count": 27,
   "id": "2704d214",
   "metadata": {},
   "outputs": [
    {
     "data": {
      "text/plain": [
       "dtype('int32')"
      ]
     },
     "execution_count": 27,
     "metadata": {},
     "output_type": "execute_result"
    }
   ],
   "source": [
    "n1.dtype "
   ]
  },
  {
   "cell_type": "markdown",
   "id": "d524293b",
   "metadata": {},
   "source": [
    "#Access id array\n",
    "1.n1[index]\n",
    "2.n1[slice]\n",
    "3.n1[vector]"
   ]
  },
  {
   "cell_type": "code",
   "execution_count": 29,
   "id": "6cb5c03b",
   "metadata": {},
   "outputs": [
    {
     "data": {
      "text/plain": [
       "14"
      ]
     },
     "execution_count": 29,
     "metadata": {},
     "output_type": "execute_result"
    }
   ],
   "source": [
    "n1[-1] #it will give you last element in the array"
   ]
  },
  {
   "cell_type": "code",
   "execution_count": 31,
   "id": "eb650eae",
   "metadata": {},
   "outputs": [
    {
     "data": {
      "text/plain": [
       "array([12, 13, 14])"
      ]
     },
     "execution_count": 31,
     "metadata": {},
     "output_type": "execute_result"
    }
   ],
   "source": [
    "#n1[slice]\n",
    "n1[1:4]#includes elements with in 2nd and last element"
   ]
  },
  {
   "cell_type": "code",
   "execution_count": 32,
   "id": "d2a2059b",
   "metadata": {},
   "outputs": [],
   "source": [
    "#display first 2 elements of n1 using slicing "
   ]
  },
  {
   "cell_type": "code",
   "execution_count": 33,
   "id": "b67fe483",
   "metadata": {},
   "outputs": [
    {
     "data": {
      "text/plain": [
       "array([11, 12])"
      ]
     },
     "execution_count": 33,
     "metadata": {},
     "output_type": "execute_result"
    }
   ],
   "source": [
    "n1[:2]"
   ]
  },
  {
   "cell_type": "code",
   "execution_count": 34,
   "id": "e731ba56",
   "metadata": {},
   "outputs": [],
   "source": [
    "#n1[vector]"
   ]
  },
  {
   "cell_type": "code",
   "execution_count": 35,
   "id": "ab644fb4",
   "metadata": {},
   "outputs": [
    {
     "data": {
      "text/plain": [
       "array([11, 13, 14])"
      ]
     },
     "execution_count": 35,
     "metadata": {},
     "output_type": "execute_result"
    }
   ],
   "source": [
    "n1[[0,2,3]]"
   ]
  },
  {
   "cell_type": "markdown",
   "id": "26668833",
   "metadata": {},
   "source": [
    "#2D array\n",
    "1.index\n",
    "2.slicing\n",
    "3.vector"
   ]
  },
  {
   "cell_type": "code",
   "execution_count": 36,
   "id": "9bbc84ab",
   "metadata": {},
   "outputs": [],
   "source": [
    "l1=[[1,2,3,4],[5,6,7,8],[9,10,11,12],[13,14,15,16]]"
   ]
  },
  {
   "cell_type": "code",
   "execution_count": 37,
   "id": "057b733d",
   "metadata": {},
   "outputs": [],
   "source": [
    "n44=np.array(l1)"
   ]
  },
  {
   "cell_type": "code",
   "execution_count": 38,
   "id": "2cc17e60",
   "metadata": {},
   "outputs": [
    {
     "data": {
      "text/plain": [
       "array([[ 1,  2,  3,  4],\n",
       "       [ 5,  6,  7,  8],\n",
       "       [ 9, 10, 11, 12],\n",
       "       [13, 14, 15, 16]])"
      ]
     },
     "execution_count": 38,
     "metadata": {},
     "output_type": "execute_result"
    }
   ],
   "source": [
    "n44"
   ]
  },
  {
   "cell_type": "code",
   "execution_count": 39,
   "id": "fdd647bd",
   "metadata": {},
   "outputs": [
    {
     "data": {
      "text/plain": [
       "array([1, 2, 3, 4])"
      ]
     },
     "execution_count": 39,
     "metadata": {},
     "output_type": "execute_result"
    }
   ],
   "source": [
    "n44[0] #shows the 1st row"
   ]
  },
  {
   "cell_type": "code",
   "execution_count": 40,
   "id": "7adcb0ca",
   "metadata": {},
   "outputs": [
    {
     "data": {
      "text/plain": [
       "array([13, 14, 15, 16])"
      ]
     },
     "execution_count": 40,
     "metadata": {},
     "output_type": "execute_result"
    }
   ],
   "source": [
    "n44[-1] #shows the last row"
   ]
  },
  {
   "cell_type": "code",
   "execution_count": null,
   "id": "5e60ab5f",
   "metadata": {},
   "outputs": [],
   "source": [
    "n44[3,3] #3rd row and 3rd column"
   ]
  },
  {
   "cell_type": "code",
   "execution_count": 42,
   "id": "29b5afd7",
   "metadata": {},
   "outputs": [
    {
     "data": {
      "text/plain": [
       "12"
      ]
     },
     "execution_count": 42,
     "metadata": {},
     "output_type": "execute_result"
    }
   ],
   "source": [
    "n44[2,3] #2ndd row and 3rd column"
   ]
  },
  {
   "cell_type": "code",
   "execution_count": 47,
   "id": "38e6247c",
   "metadata": {},
   "outputs": [],
   "source": [
    "l=[[10,20],[30,40],[50,60]]"
   ]
  },
  {
   "cell_type": "code",
   "execution_count": 53,
   "id": "c26c3d09",
   "metadata": {},
   "outputs": [
    {
     "data": {
      "text/plain": [
       "array([[10, 20],\n",
       "       [30, 40],\n",
       "       [50, 60]])"
      ]
     },
     "execution_count": 53,
     "metadata": {},
     "output_type": "execute_result"
    }
   ],
   "source": [
    "s1=np.array(l)\n",
    "s1"
   ]
  },
  {
   "cell_type": "code",
   "execution_count": 58,
   "id": "e93a2300",
   "metadata": {},
   "outputs": [
    {
     "data": {
      "text/plain": [
       "10"
      ]
     },
     "execution_count": 58,
     "metadata": {},
     "output_type": "execute_result"
    }
   ],
   "source": [
    "s1[0,0]"
   ]
  },
  {
   "cell_type": "code",
   "execution_count": 56,
   "id": "cc5f203f",
   "metadata": {},
   "outputs": [
    {
     "data": {
      "text/plain": [
       "(3, 2)"
      ]
     },
     "execution_count": 56,
     "metadata": {},
     "output_type": "execute_result"
    }
   ],
   "source": [
    "s1.shape"
   ]
  },
  {
   "cell_type": "code",
   "execution_count": 60,
   "id": "dc748914",
   "metadata": {},
   "outputs": [
    {
     "data": {
      "text/plain": [
       "60"
      ]
     },
     "execution_count": 60,
     "metadata": {},
     "output_type": "execute_result"
    }
   ],
   "source": [
    "s1[-1,-1]"
   ]
  },
  {
   "cell_type": "code",
   "execution_count": 2,
   "id": "2304d420",
   "metadata": {},
   "outputs": [
    {
     "ename": "AttributeError",
     "evalue": "module 'numpy' has no attribute 'ramdom'",
     "output_type": "error",
     "traceback": [
      "\u001b[1;31m---------------------------------------------------------------------------\u001b[0m",
      "\u001b[1;31mAttributeError\u001b[0m                            Traceback (most recent call last)",
      "\u001b[1;32m~\\AppData\\Local\\Temp/ipykernel_19088/3933111190.py\u001b[0m in \u001b[0;36m<module>\u001b[1;34m\u001b[0m\n\u001b[1;32m----> 1\u001b[1;33m \u001b[0mn2\u001b[0m\u001b[1;33m=\u001b[0m\u001b[0mnp\u001b[0m\u001b[1;33m.\u001b[0m\u001b[0mramdom\u001b[0m\u001b[1;33m.\u001b[0m\u001b[0mrandint\u001b[0m\u001b[1;33m(\u001b[0m\u001b[1;36m100\u001b[0m\u001b[1;33m,\u001b[0m\u001b[0msize\u001b[0m\u001b[1;33m=\u001b[0m\u001b[1;33m(\u001b[0m\u001b[1;36m6\u001b[0m\u001b[1;33m,\u001b[0m\u001b[1;36m4\u001b[0m\u001b[1;33m)\u001b[0m\u001b[1;33m)\u001b[0m\u001b[1;33m\u001b[0m\u001b[1;33m\u001b[0m\u001b[0m\n\u001b[0m",
      "\u001b[1;32m~\\anaconda3\\lib\\site-packages\\numpy\\__init__.py\u001b[0m in \u001b[0;36m__getattr__\u001b[1;34m(attr)\u001b[0m\n\u001b[0;32m    301\u001b[0m                 \u001b[1;32mreturn\u001b[0m \u001b[0mTester\u001b[0m\u001b[1;33m\u001b[0m\u001b[1;33m\u001b[0m\u001b[0m\n\u001b[0;32m    302\u001b[0m \u001b[1;33m\u001b[0m\u001b[0m\n\u001b[1;32m--> 303\u001b[1;33m             raise AttributeError(\"module {!r} has no attribute \"\n\u001b[0m\u001b[0;32m    304\u001b[0m                                  \"{!r}\".format(__name__, attr))\n\u001b[0;32m    305\u001b[0m \u001b[1;33m\u001b[0m\u001b[0m\n",
      "\u001b[1;31mAttributeError\u001b[0m: module 'numpy' has no attribute 'ramdom'"
     ]
    }
   ],
   "source": [
    "n2=np.ramdom.randint(100,size=(6,4))\n"
   ]
  },
  {
   "cell_type": "code",
   "execution_count": null,
   "id": "7fd43739",
   "metadata": {},
   "outputs": [],
   "source": [
    "n2"
   ]
  },
  {
   "cell_type": "code",
   "execution_count": null,
   "id": "eeeb989d",
   "metadata": {},
   "outputs": [],
   "source": []
  }
 ],
 "metadata": {
  "kernelspec": {
   "display_name": "Python 3 (ipykernel)",
   "language": "python",
   "name": "python3"
  },
  "language_info": {
   "codemirror_mode": {
    "name": "ipython",
    "version": 3
   },
   "file_extension": ".py",
   "mimetype": "text/x-python",
   "name": "python",
   "nbconvert_exporter": "python",
   "pygments_lexer": "ipython3",
   "version": "3.9.7"
  }
 },
 "nbformat": 4,
 "nbformat_minor": 5
}
