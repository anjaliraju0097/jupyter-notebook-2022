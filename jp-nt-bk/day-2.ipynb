{
 "cells": [
  {
   "cell_type": "markdown",
   "id": "bbbc425e",
   "metadata": {},
   "source": [
    "Advanced or complex datatypes(can hold more than one variable):-\n",
    "\n",
    "1.tuple\n",
    "2.list\n",
    "3.set\n",
    "4.dictionary"
   ]
  },
  {
   "cell_type": "code",
   "execution_count": 2,
   "id": "84e0d30f",
   "metadata": {},
   "outputs": [
    {
     "data": {
      "text/plain": [
       "(1, 2, 3)"
      ]
     },
     "execution_count": 2,
     "metadata": {},
     "output_type": "execute_result"
    }
   ],
   "source": [
    "# A] Tuple-immutable--values cannot be changed\n",
    "t=(1,2,3)#tuple creation\n",
    "t"
   ]
  },
  {
   "cell_type": "code",
   "execution_count": 3,
   "id": "1e6c7986",
   "metadata": {},
   "outputs": [
    {
     "data": {
      "text/plain": [
       "1"
      ]
     },
     "execution_count": 3,
     "metadata": {},
     "output_type": "execute_result"
    }
   ],
   "source": [
    "#print first element in the tuple\n",
    "t[0]"
   ]
  },
  {
   "cell_type": "code",
   "execution_count": 4,
   "id": "ee010e04",
   "metadata": {},
   "outputs": [
    {
     "data": {
      "text/plain": [
       "(1, 2, 3, 1, 2, 3)"
      ]
     },
     "execution_count": 4,
     "metadata": {},
     "output_type": "execute_result"
    }
   ],
   "source": [
    "#1)repetition \n",
    "r=t*2\n",
    "r"
   ]
  },
  {
   "cell_type": "code",
   "execution_count": 5,
   "id": "1fffe524",
   "metadata": {},
   "outputs": [
    {
     "data": {
      "text/plain": [
       "(1, 2, 3, 3, 4, 5)"
      ]
     },
     "execution_count": 5,
     "metadata": {},
     "output_type": "execute_result"
    }
   ],
   "source": [
    "#2)concatunation\n",
    "t1=(3,4,5)\n",
    "t2=t+t1\n",
    "t2"
   ]
  },
  {
   "cell_type": "code",
   "execution_count": 6,
   "id": "9432264d",
   "metadata": {},
   "outputs": [
    {
     "name": "stdout",
     "output_type": "stream",
     "text": [
      "True\n"
     ]
    }
   ],
   "source": [
    "#3)membership\n",
    "print(2 in t)"
   ]
  },
  {
   "cell_type": "code",
   "execution_count": 7,
   "id": "8d8033cc",
   "metadata": {},
   "outputs": [
    {
     "name": "stdout",
     "output_type": "stream",
     "text": [
      "1\n",
      "2\n",
      "3\n"
     ]
    }
   ],
   "source": [
    "#4)iteration\n",
    "for i in t:\n",
    "    print(i)"
   ]
  },
  {
   "cell_type": "code",
   "execution_count": 8,
   "id": "6e3f1d1c",
   "metadata": {},
   "outputs": [
    {
     "data": {
      "text/plain": [
       "('great', 'learning')"
      ]
     },
     "execution_count": 8,
     "metadata": {},
     "output_type": "execute_result"
    }
   ],
   "source": [
    "#5)length:-\n",
    "t2=('great','learning')\n",
    "t2\n"
   ]
  },
  {
   "cell_type": "code",
   "execution_count": 9,
   "id": "9e4630f2",
   "metadata": {},
   "outputs": [
    {
     "data": {
      "text/plain": [
       "(1, 'GL', 2.23, True)"
      ]
     },
     "execution_count": 9,
     "metadata": {},
     "output_type": "execute_result"
    }
   ],
   "source": [
    "t3=(1,'GL',2.23,True)\n",
    "t3"
   ]
  },
  {
   "cell_type": "code",
   "execution_count": 11,
   "id": "5e0f3552",
   "metadata": {},
   "outputs": [
    {
     "data": {
      "text/plain": [
       "(1, 2, 3, 4, 1, 2, 3, 4)"
      ]
     },
     "execution_count": 11,
     "metadata": {},
     "output_type": "execute_result"
    }
   ],
   "source": [
    "t1=(1,2,3,4)\n",
    "s=t1*2\n",
    "s"
   ]
  },
  {
   "cell_type": "code",
   "execution_count": 12,
   "id": "b147a26a",
   "metadata": {},
   "outputs": [
    {
     "data": {
      "text/plain": [
       "(1, 2, 3, 4, 5, 6, 7, 8)"
      ]
     },
     "execution_count": 12,
     "metadata": {},
     "output_type": "execute_result"
    }
   ],
   "source": [
    "t2=(5,6,7,8)\n",
    "s=t1+t2\n",
    "s"
   ]
  },
  {
   "cell_type": "code",
   "execution_count": 18,
   "id": "03e3fc91",
   "metadata": {},
   "outputs": [
    {
     "name": "stdout",
     "output_type": "stream",
     "text": [
      "True\n"
     ]
    }
   ],
   "source": [
    "print(3 in t1)"
   ]
  },
  {
   "cell_type": "code",
   "execution_count": 17,
   "id": "e7652784",
   "metadata": {},
   "outputs": [
    {
     "name": "stdout",
     "output_type": "stream",
     "text": [
      "1\n",
      "2\n",
      "3\n",
      "4\n"
     ]
    }
   ],
   "source": [
    "for i in t1:\n",
    "    print(i)"
   ]
  },
  {
   "cell_type": "code",
   "execution_count": 19,
   "id": "2693141f",
   "metadata": {},
   "outputs": [
    {
     "name": "stdout",
     "output_type": "stream",
     "text": [
      "4\n"
     ]
    }
   ],
   "source": [
    "print(len(t1))"
   ]
  },
  {
   "cell_type": "code",
   "execution_count": 24,
   "id": "546e4ba7",
   "metadata": {},
   "outputs": [
    {
     "name": "stdout",
     "output_type": "stream",
     "text": [
      "('learning', 'great')\n"
     ]
    }
   ],
   "source": [
    "#reverse of a tuple\n",
    "t2=('great' ,'learning')\n",
    "result=reversed(t2)\n",
    "result=tuple(result)\n",
    "print(result)"
   ]
  },
  {
   "cell_type": "code",
   "execution_count": 25,
   "id": "a9aedd80",
   "metadata": {},
   "outputs": [
    {
     "data": {
      "text/plain": [
       "4"
      ]
     },
     "execution_count": 25,
     "metadata": {},
     "output_type": "execute_result"
    }
   ],
   "source": [
    "#python inbuilt functions\n",
    "len(t1)"
   ]
  },
  {
   "cell_type": "code",
   "execution_count": 26,
   "id": "97a9a4b5",
   "metadata": {},
   "outputs": [
    {
     "data": {
      "text/plain": [
       "4"
      ]
     },
     "execution_count": 26,
     "metadata": {},
     "output_type": "execute_result"
    }
   ],
   "source": [
    "max(t1)"
   ]
  },
  {
   "cell_type": "code",
   "execution_count": 27,
   "id": "9874aa36",
   "metadata": {},
   "outputs": [
    {
     "data": {
      "text/plain": [
       "1"
      ]
     },
     "execution_count": 27,
     "metadata": {},
     "output_type": "execute_result"
    }
   ],
   "source": [
    "min(t1)"
   ]
  },
  {
   "cell_type": "code",
   "execution_count": 28,
   "id": "e8904b6d",
   "metadata": {},
   "outputs": [
    {
     "data": {
      "text/plain": [
       "('e', 'r', 't', 'y', 'u', 'i', 'o', 'p')"
      ]
     },
     "execution_count": 28,
     "metadata": {},
     "output_type": "execute_result"
    }
   ],
   "source": [
    "s='ertyuiop'\n",
    "tuple(s)"
   ]
  },
  {
   "cell_type": "code",
   "execution_count": 30,
   "id": "a685fcaf",
   "metadata": {},
   "outputs": [
    {
     "name": "stdout",
     "output_type": "stream",
     "text": [
      "[4, 12, 23, 34]\n"
     ]
    }
   ],
   "source": [
    "age=(34,4,23,12) \n",
    "print(sorted(age))#shift+tab+tab"
   ]
  },
  {
   "cell_type": "code",
   "execution_count": 31,
   "id": "84dc47ab",
   "metadata": {},
   "outputs": [
    {
     "name": "stdout",
     "output_type": "stream",
     "text": [
      "[34, 23, 12, 4]\n"
     ]
    }
   ],
   "source": [
    "age=(34,4,23,12)\n",
    "print(sorted(age,reverse=True))"
   ]
  },
  {
   "cell_type": "code",
   "execution_count": 32,
   "id": "10b94474",
   "metadata": {},
   "outputs": [
    {
     "data": {
      "text/plain": [
       "40"
      ]
     },
     "execution_count": 32,
     "metadata": {},
     "output_type": "execute_result"
    }
   ],
   "source": [
    "t5=(10,20,30,40)\n",
    "max(t5)"
   ]
  },
  {
   "cell_type": "code",
   "execution_count": 33,
   "id": "9de21a41",
   "metadata": {},
   "outputs": [
    {
     "data": {
      "text/plain": [
       "4"
      ]
     },
     "execution_count": 33,
     "metadata": {},
     "output_type": "execute_result"
    }
   ],
   "source": [
    "len(t5)"
   ]
  },
  {
   "cell_type": "code",
   "execution_count": 34,
   "id": "74419438",
   "metadata": {},
   "outputs": [
    {
     "name": "stdout",
     "output_type": "stream",
     "text": [
      "[40, 30, 20, 10]\n"
     ]
    }
   ],
   "source": [
    "print(sorted(t5,reverse=True))"
   ]
  },
  {
   "cell_type": "code",
   "execution_count": 35,
   "id": "ee220368",
   "metadata": {},
   "outputs": [
    {
     "data": {
      "text/plain": [
       "('g', 'r', 'e', 'a', 't')"
      ]
     },
     "execution_count": 35,
     "metadata": {},
     "output_type": "execute_result"
    }
   ],
   "source": [
    "x='great'\n",
    "tuple(x)"
   ]
  },
  {
   "cell_type": "code",
   "execution_count": 40,
   "id": "c6ed5ce3",
   "metadata": {},
   "outputs": [
    {
     "name": "stdout",
     "output_type": "stream",
     "text": [
      "4\n",
      "(34, 4, 23, 12)\n",
      "(34, 4, 23, 12)\n",
      "(34, 4, 23)\n",
      "(12, 23, 4, 34)\n"
     ]
    }
   ],
   "source": [
    "#sclicing in tuple\n",
    "print(age[1])\n",
    "print(age[0:])\n",
    "print(age[:len(age)])\n",
    "print(age[:-1])\n",
    "print(age[::-1])"
   ]
  },
  {
   "cell_type": "code",
   "execution_count": 47,
   "id": "dd510bd2",
   "metadata": {},
   "outputs": [
    {
     "data": {
      "text/plain": [
       "(30, 2, 34, 21, 'jack', 'rose')"
      ]
     },
     "execution_count": 47,
     "metadata": {},
     "output_type": "execute_result"
    }
   ],
   "source": [
    "#add tuple\n",
    "age=(30,2,34,21)\n",
    "name=('jack','rose')\n",
    "ad_tup=age+name\n",
    "ad_tup"
   ]
  },
  {
   "cell_type": "code",
   "execution_count": 49,
   "id": "e4011700",
   "metadata": {},
   "outputs": [
    {
     "data": {
      "text/plain": [
       "3"
      ]
     },
     "execution_count": 49,
     "metadata": {},
     "output_type": "execute_result"
    }
   ],
   "source": [
    "thistuple=(\"apple\",\"cherry\",\"banana\")\n",
    "len(thistuple)"
   ]
  },
  {
   "cell_type": "code",
   "execution_count": 50,
   "id": "60bcc529",
   "metadata": {},
   "outputs": [],
   "source": [
    "s=(4.00,4,'hello',False)"
   ]
  },
  {
   "cell_type": "code",
   "execution_count": 57,
   "id": "cc0bb535",
   "metadata": {},
   "outputs": [
    {
     "data": {
      "text/plain": [
       "'banana'"
      ]
     },
     "execution_count": 57,
     "metadata": {},
     "output_type": "execute_result"
    }
   ],
   "source": [
    "thistuple[2]"
   ]
  },
  {
   "cell_type": "code",
   "execution_count": 53,
   "id": "457e73ab",
   "metadata": {},
   "outputs": [
    {
     "data": {
      "text/plain": [
       "'banana'"
      ]
     },
     "execution_count": 53,
     "metadata": {},
     "output_type": "execute_result"
    }
   ],
   "source": [
    "thistuple[-1]"
   ]
  },
  {
   "cell_type": "code",
   "execution_count": 65,
   "id": "746e0e57",
   "metadata": {},
   "outputs": [
    {
     "data": {
      "text/plain": [
       "[1, 2, 3, 4]"
      ]
     },
     "execution_count": 65,
     "metadata": {},
     "output_type": "execute_result"
    }
   ],
   "source": [
    "# B] List--mutable-we can change the values of the python list ie add/dlt/replcae them\n",
    "l1=[1,2,3,4]\n",
    "l1"
   ]
  },
  {
   "cell_type": "code",
   "execution_count": 68,
   "id": "6388f93b",
   "metadata": {},
   "outputs": [
    {
     "data": {
      "text/plain": [
       "[1, 2, 3, 4, 1, 2, 3, 4]"
      ]
     },
     "execution_count": 68,
     "metadata": {},
     "output_type": "execute_result"
    }
   ],
   "source": [
    "r=l1*2\n",
    "r"
   ]
  },
  {
   "cell_type": "code",
   "execution_count": 69,
   "id": "0e1df158",
   "metadata": {},
   "outputs": [
    {
     "data": {
      "text/plain": [
       "[1, 2, 3, 4, 10, 20, 30, 40]"
      ]
     },
     "execution_count": 69,
     "metadata": {},
     "output_type": "execute_result"
    }
   ],
   "source": [
    "l2=[10,20,30,40]\n",
    "l1+l2"
   ]
  },
  {
   "cell_type": "code",
   "execution_count": 70,
   "id": "580d658d",
   "metadata": {},
   "outputs": [
    {
     "name": "stdout",
     "output_type": "stream",
     "text": [
      "False\n"
     ]
    }
   ],
   "source": [
    "print(20 in l1)"
   ]
  },
  {
   "cell_type": "code",
   "execution_count": 71,
   "id": "29471d8c",
   "metadata": {},
   "outputs": [
    {
     "data": {
      "text/plain": [
       "4"
      ]
     },
     "execution_count": 71,
     "metadata": {},
     "output_type": "execute_result"
    }
   ],
   "source": [
    "len(l1)"
   ]
  },
  {
   "cell_type": "code",
   "execution_count": 73,
   "id": "d42b1be9",
   "metadata": {},
   "outputs": [
    {
     "name": "stdout",
     "output_type": "stream",
     "text": [
      "1\n",
      "2\n",
      "3\n",
      "4\n"
     ]
    }
   ],
   "source": [
    "for i in l1:\n",
    "    print(i)"
   ]
  },
  {
   "cell_type": "code",
   "execution_count": 74,
   "id": "d143ccdf",
   "metadata": {},
   "outputs": [
    {
     "data": {
      "text/plain": [
       "['h', 'e', 'l', 'l', 'o']"
      ]
     },
     "execution_count": 74,
     "metadata": {},
     "output_type": "execute_result"
    }
   ],
   "source": [
    "#python list bulidin function--max,miun,list\n",
    "l=\"hello\"\n",
    "list(l)"
   ]
  },
  {
   "cell_type": "code",
   "execution_count": 75,
   "id": "78346a53",
   "metadata": {},
   "outputs": [
    {
     "data": {
      "text/plain": [
       "66"
      ]
     },
     "execution_count": 75,
     "metadata": {},
     "output_type": "execute_result"
    }
   ],
   "source": [
    "l1=[11,22,33,44,55,66]\n",
    "max(l1)"
   ]
  },
  {
   "cell_type": "code",
   "execution_count": 76,
   "id": "97677902",
   "metadata": {},
   "outputs": [
    {
     "data": {
      "text/plain": [
       "11"
      ]
     },
     "execution_count": 76,
     "metadata": {},
     "output_type": "execute_result"
    }
   ],
   "source": [
    "min(l1)"
   ]
  },
  {
   "cell_type": "code",
   "execution_count": 77,
   "id": "92a93958",
   "metadata": {},
   "outputs": [
    {
     "data": {
      "text/plain": [
       "6"
      ]
     },
     "execution_count": 77,
     "metadata": {},
     "output_type": "execute_result"
    }
   ],
   "source": [
    "len(l1)"
   ]
  },
  {
   "cell_type": "code",
   "execution_count": 78,
   "id": "0a864684",
   "metadata": {},
   "outputs": [
    {
     "data": {
      "text/plain": [
       "[11, 22, 33, 44, 55, 66, 10, 20, 30]"
      ]
     },
     "execution_count": 78,
     "metadata": {},
     "output_type": "execute_result"
    }
   ],
   "source": [
    "l2=[10,20,30]\n",
    "l1+l2"
   ]
  },
  {
   "cell_type": "code",
   "execution_count": 79,
   "id": "e0d7805b",
   "metadata": {},
   "outputs": [
    {
     "name": "stdout",
     "output_type": "stream",
     "text": [
      "11\n",
      "22\n",
      "33\n",
      "44\n",
      "55\n",
      "66\n"
     ]
    }
   ],
   "source": [
    "for i in l1:\n",
    "    print(i)"
   ]
  },
  {
   "cell_type": "code",
   "execution_count": 80,
   "id": "5a8e04d2",
   "metadata": {},
   "outputs": [
    {
     "name": "stdout",
     "output_type": "stream",
     "text": [
      "False\n"
     ]
    }
   ],
   "source": [
    "print(88 in l1)"
   ]
  },
  {
   "cell_type": "code",
   "execution_count": 82,
   "id": "aa050ba2",
   "metadata": {},
   "outputs": [
    {
     "data": {
      "text/plain": [
       "['cat', 'dag', 'cow', 'rabbit']"
      ]
     },
     "execution_count": 82,
     "metadata": {},
     "output_type": "execute_result"
    }
   ],
   "source": [
    "# python list buidin method\n",
    "#append:-adding at the end\n",
    "l1=[\"cat\",\"dag\",\"cow\"]\n",
    "l1.append(\"rabbit\")#appending rabbit\n",
    "l1\n"
   ]
  },
  {
   "cell_type": "code",
   "execution_count": 83,
   "id": "39a0acae",
   "metadata": {},
   "outputs": [
    {
     "data": {
      "text/plain": [
       "['cat', 'dag', 'cow', 'rabbit']"
      ]
     },
     "execution_count": 83,
     "metadata": {},
     "output_type": "execute_result"
    }
   ],
   "source": [
    "#copy()\n",
    "new_list=l1.copy()\n",
    "new_list"
   ]
  },
  {
   "cell_type": "code",
   "execution_count": 98,
   "id": "bb4b5c49",
   "metadata": {},
   "outputs": [
    {
     "data": {
      "text/plain": [
       "2"
      ]
     },
     "execution_count": 98,
     "metadata": {},
     "output_type": "execute_result"
    }
   ],
   "source": [
    "#count\n",
    "l1=[\"a\",\"e\",\"i\",\"o\",\"u\",\"a\"]\n",
    "l1.count('a')"
   ]
  },
  {
   "cell_type": "code",
   "execution_count": 100,
   "id": "d8243e83",
   "metadata": {},
   "outputs": [
    {
     "name": "stdout",
     "output_type": "stream",
     "text": [
      "None\n"
     ]
    }
   ],
   "source": [
    "#append()\n",
    "#clear()\n",
    "#count()\n",
    "#copy()\n",
    "#extend()\n",
    "#index()\n",
    "#insert()\n",
    "#sorted()\n",
    "#reverse()\n",
    "#remove()\n"
   ]
  },
  {
   "cell_type": "code",
   "execution_count": 103,
   "id": "47f249e0",
   "metadata": {},
   "outputs": [
    {
     "data": {
      "text/plain": [
       "4"
      ]
     },
     "execution_count": 103,
     "metadata": {},
     "output_type": "execute_result"
    }
   ],
   "source": [
    "l1.index('u')"
   ]
  },
  {
   "cell_type": "code",
   "execution_count": 108,
   "id": "5c5f6bd5",
   "metadata": {},
   "outputs": [],
   "source": [
    "l1.remove('a')"
   ]
  },
  {
   "cell_type": "code",
   "execution_count": 109,
   "id": "f281cd21",
   "metadata": {},
   "outputs": [
    {
     "data": {
      "text/plain": [
       "['e', 'i', 'o', 'u']"
      ]
     },
     "execution_count": 109,
     "metadata": {},
     "output_type": "execute_result"
    }
   ],
   "source": [
    "l1"
   ]
  },
  {
   "cell_type": "code",
   "execution_count": 110,
   "id": "91ad6974",
   "metadata": {},
   "outputs": [
    {
     "data": {
      "text/plain": [
       "['e', 'i', 'o', 'u']"
      ]
     },
     "execution_count": 110,
     "metadata": {},
     "output_type": "execute_result"
    }
   ],
   "source": [
    "sorted(l1)"
   ]
  },
  {
   "cell_type": "code",
   "execution_count": 112,
   "id": "2e97b71a",
   "metadata": {},
   "outputs": [
    {
     "ename": "TypeError",
     "evalue": "insert expected 2 arguments, got 1",
     "output_type": "error",
     "traceback": [
      "\u001b[1;31m---------------------------------------------------------------------------\u001b[0m",
      "\u001b[1;31mTypeError\u001b[0m                                 Traceback (most recent call last)",
      "\u001b[1;32m~\\AppData\\Local\\Temp/ipykernel_4360/2872362675.py\u001b[0m in \u001b[0;36m<module>\u001b[1;34m\u001b[0m\n\u001b[1;32m----> 1\u001b[1;33m \u001b[0ml1\u001b[0m\u001b[1;33m.\u001b[0m\u001b[0minsert\u001b[0m\u001b[1;33m(\u001b[0m\u001b[1;34m'a'\u001b[0m\u001b[1;33m)\u001b[0m\u001b[1;33m\u001b[0m\u001b[1;33m\u001b[0m\u001b[0m\n\u001b[0m",
      "\u001b[1;31mTypeError\u001b[0m: insert expected 2 arguments, got 1"
     ]
    }
   ],
   "source": [
    "l1.insert('a')"
   ]
  },
  {
   "cell_type": "code",
   "execution_count": 117,
   "id": "c1ba86d9",
   "metadata": {},
   "outputs": [
    {
     "data": {
      "text/plain": [
       "['u', 'o', 'i', 'e']"
      ]
     },
     "execution_count": 117,
     "metadata": {},
     "output_type": "execute_result"
    }
   ],
   "source": [
    "l1.reverse()\n",
    "l1\n"
   ]
  },
  {
   "cell_type": "code",
   "execution_count": 118,
   "id": "2496fcab",
   "metadata": {},
   "outputs": [],
   "source": [
    "temp1=[100,200,300,400,500]\n",
    "temp1.append(700)"
   ]
  },
  {
   "cell_type": "code",
   "execution_count": 119,
   "id": "5480eadd",
   "metadata": {},
   "outputs": [
    {
     "data": {
      "text/plain": [
       "[100, 200, 300, 400, 500, 700]"
      ]
     },
     "execution_count": 119,
     "metadata": {},
     "output_type": "execute_result"
    }
   ],
   "source": [
    "temp1"
   ]
  },
  {
   "cell_type": "code",
   "execution_count": 124,
   "id": "5ff9c99a",
   "metadata": {},
   "outputs": [
    {
     "data": {
      "text/plain": [
       "1"
      ]
     },
     "execution_count": 124,
     "metadata": {},
     "output_type": "execute_result"
    }
   ],
   "source": [
    "temp1.index(200)"
   ]
  },
  {
   "cell_type": "code",
   "execution_count": 147,
   "id": "15b14ec5",
   "metadata": {},
   "outputs": [
    {
     "name": "stdout",
     "output_type": "stream",
     "text": [
      "[700, 500, 400, 300, 200, 600, 600, 600, 100, 10, 20, 30, 40, 10, 20, 30, 40, 10, 20, 30, 40, 700, 700, 700, 600, 600, 1, 1, 1, 10, 20, 30, 40]\n"
     ]
    }
   ],
   "source": [
    "temp1.insert(5,600)\n",
    "print(temp1)"
   ]
  },
  {
   "cell_type": "code",
   "execution_count": 151,
   "id": "0504e25a",
   "metadata": {},
   "outputs": [],
   "source": [
    "temp1.reverse()\n"
   ]
  },
  {
   "cell_type": "code",
   "execution_count": 146,
   "id": "1a6523f3",
   "metadata": {},
   "outputs": [
    {
     "name": "stdout",
     "output_type": "stream",
     "text": [
      "[10, 20, 30, 40, 700, 500, 400, 300, 200, 600, 600, 100, 10, 20, 30, 40, 10, 20, 30, 40, 10, 20, 30, 40, 700, 700, 700, 600, 600, 1, 1, 1, 10, 20, 30, 40]\n"
     ]
    }
   ],
   "source": [
    "temp2=[10,20,30,40]\n",
    "temp2.extend(temp1)\n",
    "print(temp2)"
   ]
  },
  {
   "cell_type": "markdown",
   "id": "a1d5ff5b",
   "metadata": {},
   "source": [
    "data sclicing\n",
    "[0:]\n",
    "start,step,stop,(-1)"
   ]
  },
  {
   "cell_type": "code",
   "execution_count": 152,
   "id": "a2dfd462",
   "metadata": {},
   "outputs": [
    {
     "data": {
      "text/plain": [
       "'etu'"
      ]
     },
     "execution_count": 152,
     "metadata": {},
     "output_type": "execute_result"
    }
   ],
   "source": [
    "s='qwertyuio'\n",
    "s[2:7:2]#start=2,stop=7,step=2"
   ]
  },
  {
   "cell_type": "code",
   "execution_count": 153,
   "id": "157a8e69",
   "metadata": {},
   "outputs": [
    {
     "data": {
      "text/plain": [
       "'hlo'"
      ]
     },
     "execution_count": 153,
     "metadata": {},
     "output_type": "execute_result"
    }
   ],
   "source": [
    "s=\"hello\"\n",
    "s[0:5:2]"
   ]
  },
  {
   "cell_type": "code",
   "execution_count": 154,
   "id": "becb8b89",
   "metadata": {},
   "outputs": [],
   "source": [
    "fruits=[\"orange\",\"apple\",\"cherry\"]\n"
   ]
  },
  {
   "cell_type": "code",
   "execution_count": 155,
   "id": "f22b3ade",
   "metadata": {},
   "outputs": [
    {
     "data": {
      "text/plain": [
       "['apple', 'cherry']"
      ]
     },
     "execution_count": 155,
     "metadata": {},
     "output_type": "execute_result"
    }
   ],
   "source": [
    "fruits[1:]"
   ]
  },
  {
   "cell_type": "code",
   "execution_count": 156,
   "id": "e704137f",
   "metadata": {},
   "outputs": [
    {
     "data": {
      "text/plain": [
       "['cherry']"
      ]
     },
     "execution_count": 156,
     "metadata": {},
     "output_type": "execute_result"
    }
   ],
   "source": [
    "fruits[2:]"
   ]
  },
  {
   "cell_type": "code",
   "execution_count": 158,
   "id": "a7aa2a6a",
   "metadata": {},
   "outputs": [
    {
     "data": {
      "text/plain": [
       "['cherry', 'apple', 'orange']"
      ]
     },
     "execution_count": 158,
     "metadata": {},
     "output_type": "execute_result"
    }
   ],
   "source": [
    "fruits[::-1]#reversing"
   ]
  },
  {
   "cell_type": "code",
   "execution_count": 160,
   "id": "dd2cd582",
   "metadata": {},
   "outputs": [
    {
     "data": {
      "text/plain": [
       "['sunday', 'is', 'tomorrow']"
      ]
     },
     "execution_count": 160,
     "metadata": {},
     "output_type": "execute_result"
    }
   ],
   "source": [
    "day=[\"tomorrow\",\"is\",\"sunday\"]\n",
    "day[::-1]"
   ]
  },
  {
   "cell_type": "code",
   "execution_count": null,
   "id": "1df7f5b8",
   "metadata": {},
   "outputs": [],
   "source": []
  }
 ],
 "metadata": {
  "kernelspec": {
   "display_name": "Python 3 (ipykernel)",
   "language": "python",
   "name": "python3"
  },
  "language_info": {
   "codemirror_mode": {
    "name": "ipython",
    "version": 3
   },
   "file_extension": ".py",
   "mimetype": "text/x-python",
   "name": "python",
   "nbconvert_exporter": "python",
   "pygments_lexer": "ipython3",
   "version": "3.9.7"
  }
 },
 "nbformat": 4,
 "nbformat_minor": 5
}
