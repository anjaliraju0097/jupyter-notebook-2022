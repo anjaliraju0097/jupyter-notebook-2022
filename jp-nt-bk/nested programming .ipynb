{
 "cells": [
  {
   "cell_type": "code",
   "execution_count": 1,
   "id": "0663586d",
   "metadata": {},
   "outputs": [],
   "source": [
    "#nested if program\n"
   ]
  },
  {
   "cell_type": "code",
   "execution_count": 2,
   "id": "5fa1fc85",
   "metadata": {},
   "outputs": [
    {
     "name": "stdout",
     "output_type": "stream",
     "text": [
      "enter the number :45\n",
      "odd\n"
     ]
    }
   ],
   "source": [
    "n=int(input(\"enter the number :\"))\n",
    "if(n%2==0):\n",
    "  print(\"even\")\n",
    "else:\n",
    "  print(\"odd\") "
   ]
  },
  {
   "cell_type": "code",
   "execution_count": 9,
   "id": "f449a969",
   "metadata": {},
   "outputs": [
    {
     "name": "stdout",
     "output_type": "stream",
     "text": [
      "equal\n"
     ]
    }
   ],
   "source": [
    "a=3\n",
    "b=3\n",
    "if(a==b):\n",
    "    print(\"equal\")\n",
    "else:\n",
    "    print(\"not equal\")\n",
    "    "
   ]
  },
  {
   "cell_type": "code",
   "execution_count": 10,
   "id": "546128c1",
   "metadata": {},
   "outputs": [
    {
     "name": "stdout",
     "output_type": "stream",
     "text": [
      "enter your age12\n",
      "not eligible\n"
     ]
    }
   ],
   "source": [
    "n=int(input(\"enter your age\"))\n",
    "if(n>=18):\n",
    "    print(\"eligible for vote\")\n",
    "else:\n",
    "    print(\"not eligible\")"
   ]
  },
  {
   "cell_type": "code",
   "execution_count": 4,
   "id": "cf42ded9",
   "metadata": {},
   "outputs": [
    {
     "name": "stdout",
     "output_type": "stream",
     "text": [
      "username is not correct\n"
     ]
    }
   ],
   "source": [
    "un=\"greartlearning\"\n",
    "pwd=\"chennai@12\"\n",
    "if(un==\"greatlearning\" and pwd==\"chennai@12\"):\n",
    "    print(\"login success\")\n",
    "elif(un!=\"greatlearning\" and pwd==\"chennai@12\"):\n",
    "    print(\"username is not correct\")\n",
    "elif(un==\"greatlearning\" and pwd!=\"chennai@12\"):\n",
    "    print(\"passwd is not correct\")\n",
    "else:\n",
    "    print(\"please enter a valid username or password\")"
   ]
  },
  {
   "cell_type": "code",
   "execution_count": 5,
   "id": "5b6702c2",
   "metadata": {},
   "outputs": [
    {
     "name": "stdout",
     "output_type": "stream",
     "text": [
      "b is greater\n"
     ]
    }
   ],
   "source": [
    "#largest of 3 numbers\n",
    "a,b,c=3,5,4\n",
    "if(a>b and a>c):\n",
    "    print(\"a is greater\")\n",
    "elif(b>a and b>c):\n",
    "    print(\"b is greater\")\n",
    "else:\n",
    "    print(\"c is greater\")"
   ]
  },
  {
   "cell_type": "code",
   "execution_count": 8,
   "id": "c70d1372",
   "metadata": {},
   "outputs": [
    {
     "name": "stdout",
     "output_type": "stream",
     "text": [
      "enter the number:-7\n",
      "negative\n"
     ]
    }
   ],
   "source": [
    "#check whether the number is positive,negative or zero\n",
    "n=int(input(\"enter the number:\"))\n",
    "if(n>0):\n",
    "    print(\"positive\")\n",
    "elif(n<0):\n",
    "    print(\"negative number\")\n",
    "else:\n",
    "    print(\"number is zero\")"
   ]
  },
  {
   "cell_type": "code",
   "execution_count": 11,
   "id": "9848a6a9",
   "metadata": {},
   "outputs": [
    {
     "name": "stdout",
     "output_type": "stream",
     "text": [
      "A\n",
      "n\n",
      "j\n",
      "a\n",
      "l\n",
      "i\n"
     ]
    }
   ],
   "source": [
    "#for loop/while loop\n",
    "nm=\"Anjali\"\n",
    "for i in nm:\n",
    "    print(i)"
   ]
  },
  {
   "cell_type": "code",
   "execution_count": 14,
   "id": "8a975e1f",
   "metadata": {},
   "outputs": [
    {
     "name": "stdout",
     "output_type": "stream",
     "text": [
      "['great', 'learning']\n",
      "hi\n",
      "[1, 2, 3]\n",
      "[6.7, 8.0]\n"
     ]
    }
   ],
   "source": [
    "listoflist=[['great','learning'],'hi',[1,2,3],[6.7,8.0]]\n",
    "for i in listoflist:\n",
    "    print(i)"
   ]
  },
  {
   "cell_type": "code",
   "execution_count": 15,
   "id": "40f8befa",
   "metadata": {},
   "outputs": [
    {
     "name": "stdout",
     "output_type": "stream",
     "text": [
      "1\n",
      "3\n",
      "5\n",
      "7\n"
     ]
    }
   ],
   "source": [
    "#range--strt,stop,step\n",
    "for i in range(1,8,2):\n",
    "    print(i)"
   ]
  },
  {
   "cell_type": "code",
   "execution_count": 16,
   "id": "8fb45b53",
   "metadata": {},
   "outputs": [
    {
     "name": "stdout",
     "output_type": "stream",
     "text": [
      "1\n",
      "9\n",
      "25\n",
      "49\n",
      "81\n",
      "121\n",
      "169\n"
     ]
    }
   ],
   "source": [
    "number=[5,6,7,8,9]\n",
    "for i in range(1,14,2):\n",
    "    print(i*i)"
   ]
  },
  {
   "cell_type": "code",
   "execution_count": 23,
   "id": "ce2cc7e6",
   "metadata": {},
   "outputs": [
    {
     "name": "stdout",
     "output_type": "stream",
     "text": [
      "sum= 35\n"
     ]
    }
   ],
   "source": [
    "number=[5,6,7,8,9]\n",
    "S=0\n",
    "for i in number:\n",
    "    S=S+i\n",
    "print(\"sum=\",S)"
   ]
  },
  {
   "cell_type": "code",
   "execution_count": 24,
   "id": "cef1d0c9",
   "metadata": {},
   "outputs": [
    {
     "data": {
      "text/plain": [
       "dict_keys(['color', 'fruit', 'pet'])"
      ]
     },
     "execution_count": 24,
     "metadata": {},
     "output_type": "execute_result"
    }
   ],
   "source": [
    "a_dict={'color':'blue','fruit':'apple','pet':'dog'}\n",
    "a_dict.keys()"
   ]
  },
  {
   "cell_type": "code",
   "execution_count": 25,
   "id": "31c7980f",
   "metadata": {},
   "outputs": [
    {
     "data": {
      "text/plain": [
       "dict_values(['blue', 'apple', 'dog'])"
      ]
     },
     "execution_count": 25,
     "metadata": {},
     "output_type": "execute_result"
    }
   ],
   "source": [
    "a_dict.values()"
   ]
  },
  {
   "cell_type": "code",
   "execution_count": 28,
   "id": "99334c50",
   "metadata": {},
   "outputs": [
    {
     "data": {
      "text/plain": [
       "['blue', 'apple', 'dog']"
      ]
     },
     "execution_count": 28,
     "metadata": {},
     "output_type": "execute_result"
    }
   ],
   "source": [
    "new=list(a_dict.values())\n",
    "new"
   ]
  },
  {
   "cell_type": "code",
   "execution_count": 38,
   "id": "d793be0c",
   "metadata": {},
   "outputs": [
    {
     "name": "stdout",
     "output_type": "stream",
     "text": [
      "35\n",
      "70\n"
     ]
    }
   ],
   "source": [
    "#combination of for loop with if stmnt\n",
    "for i in range(1,101):\n",
    "    if(i%7==0 and i%5==0):\n",
    "        print(i)\n",
    "        number.append(i)"
   ]
  },
  {
   "cell_type": "code",
   "execution_count": 34,
   "id": "54a216ba",
   "metadata": {},
   "outputs": [
    {
     "data": {
      "text/plain": [
       "[5, 6, 7, 8, 9, 35, 35, 35]"
      ]
     },
     "execution_count": 34,
     "metadata": {},
     "output_type": "execute_result"
    }
   ],
   "source": [
    "number.append()\n",
    "number"
   ]
  },
  {
   "cell_type": "code",
   "execution_count": 46,
   "id": "7016f8ca",
   "metadata": {},
   "outputs": [
    {
     "name": "stdout",
     "output_type": "stream",
     "text": [
      "enter the number :6\n",
      "720\n"
     ]
    }
   ],
   "source": [
    "num=int(input(\"enter the number :\"))\n",
    "fact=1\n",
    "if(n==0):\n",
    "    print(\"actorial is \n",
    "for i in range(1,n+1):\n",
    "    fact=i*fact\n",
    "print(fact)\n",
    " "
   ]
  },
  {
   "cell_type": "code",
   "execution_count": null,
   "id": "b6e2e296",
   "metadata": {},
   "outputs": [],
   "source": [
    "#list comprehension "
   ]
  }
 ],
 "metadata": {
  "kernelspec": {
   "display_name": "Python 3 (ipykernel)",
   "language": "python",
   "name": "python3"
  },
  "language_info": {
   "codemirror_mode": {
    "name": "ipython",
    "version": 3
   },
   "file_extension": ".py",
   "mimetype": "text/x-python",
   "name": "python",
   "nbconvert_exporter": "python",
   "pygments_lexer": "ipython3",
   "version": "3.9.7"
  }
 },
 "nbformat": 4,
 "nbformat_minor": 5
}
