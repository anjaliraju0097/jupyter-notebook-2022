{
 "cells": [
  {
   "cell_type": "code",
   "execution_count": 1,
   "id": "af8cf46c",
   "metadata": {},
   "outputs": [],
   "source": [
    "l1=[11,20,30,40]\n",
    "def odd_even(l1):\n",
    "    for i in l1:\n",
    "        if(i%2==0):\n",
    "            print(\"even\")\n",
    "        else:\n",
    "            print(\"odd\")\n",
    "    return(i)        \n",
    "    \n"
   ]
  },
  {
   "cell_type": "code",
   "execution_count": 2,
   "id": "5d02f4e9",
   "metadata": {},
   "outputs": [
    {
     "name": "stdout",
     "output_type": "stream",
     "text": [
      "odd\n",
      "even\n",
      "even\n",
      "even\n"
     ]
    },
    {
     "data": {
      "text/plain": [
       "40"
      ]
     },
     "execution_count": 2,
     "metadata": {},
     "output_type": "execute_result"
    }
   ],
   "source": [
    "odd_even(l1)"
   ]
  },
  {
   "cell_type": "code",
   "execution_count": 5,
   "id": "c4f8cbfa",
   "metadata": {},
   "outputs": [
    {
     "data": {
      "text/plain": [
       "['ertyui', 'sdfgh', 'dfghjk', 'nm']"
      ]
     },
     "execution_count": 5,
     "metadata": {},
     "output_type": "execute_result"
    }
   ],
   "source": [
    "#read a string and convert the sentences into list of words\n",
    "inp=\"ertyui sdfgh dfghjk nm\"\n",
    "inp.split()\n"
   ]
  },
  {
   "cell_type": "code",
   "execution_count": 10,
   "id": "23d07cce",
   "metadata": {},
   "outputs": [
    {
     "data": {
      "text/plain": [
       "[(20, 'maths'), (30, 'english'), (40, 'physics')]"
      ]
     },
     "execution_count": 10,
     "metadata": {},
     "output_type": "execute_result"
    }
   ],
   "source": [
    "l1=[20,30,40]\n",
    "l2=[\"maths\",\"english\",\"physics\"]\n",
    "list(zip(l1,l2))\n"
   ]
  },
  {
   "cell_type": "code",
   "execution_count": 11,
   "id": "bcd8f5f6",
   "metadata": {},
   "outputs": [
    {
     "data": {
      "text/plain": [
       "['the',\n",
       " 'movie',\n",
       " 'was',\n",
       " 'very',\n",
       " 'good',\n",
       " 'and',\n",
       " 'the',\n",
       " 'audience',\n",
       " 'enjoyed',\n",
       " 'it',\n",
       " 'very',\n",
       " 'much']"
      ]
     },
     "execution_count": 11,
     "metadata": {},
     "output_type": "execute_result"
    }
   ],
   "source": [
    "v=\"the movie was very good and the audience enjoyed it very much\"\n",
    "v.split()"
   ]
  },
  {
   "cell_type": "code",
   "execution_count": null,
   "id": "98674e06",
   "metadata": {},
   "outputs": [],
   "source": [
    "modules and its description\n",
    "--dataset and description\n",
    "--exploratory data analysis\n",
    "--train test data analysis\n",
    "--applying the machine learning algirithm\n",
    "--hyperparameter tuning/tuning of the model\n",
    "--resultd and description"
   ]
  },
  {
   "cell_type": "code",
   "execution_count": null,
   "id": "20f0457d",
   "metadata": {},
   "outputs": [],
   "source": []
  }
 ],
 "metadata": {
  "kernelspec": {
   "display_name": "Python 3 (ipykernel)",
   "language": "python",
   "name": "python3"
  },
  "language_info": {
   "codemirror_mode": {
    "name": "ipython",
    "version": 3
   },
   "file_extension": ".py",
   "mimetype": "text/x-python",
   "name": "python",
   "nbconvert_exporter": "python",
   "pygments_lexer": "ipython3",
   "version": "3.9.7"
  }
 },
 "nbformat": 4,
 "nbformat_minor": 5
}
