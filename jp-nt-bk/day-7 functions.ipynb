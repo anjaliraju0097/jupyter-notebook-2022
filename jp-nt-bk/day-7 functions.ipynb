{
 "cells": [
  {
   "cell_type": "code",
   "execution_count": 1,
   "id": "a79b1056",
   "metadata": {},
   "outputs": [],
   "source": [
    "#day-7 functions"
   ]
  },
  {
   "cell_type": "code",
   "execution_count": null,
   "id": "ab2ccc34",
   "metadata": {},
   "outputs": [],
   "source": [
    "#args:-passing parameters"
   ]
  },
  {
   "cell_type": "code",
   "execution_count": 2,
   "id": "948bc283",
   "metadata": {},
   "outputs": [
    {
     "data": {
      "text/plain": [
       "7"
      ]
     },
     "execution_count": 2,
     "metadata": {},
     "output_type": "execute_result"
    }
   ],
   "source": [
    "def addition(a,b):\n",
    "    c=a+b\n",
    "    return c\n",
    "addition(3,4)"
   ]
  },
  {
   "cell_type": "markdown",
   "id": "c0b8032b",
   "metadata": {},
   "source": [
    "#there are 2 types of arguments \n",
    "1)key-word arguments (**kwargs)\n",
    "2)non key word \"(*args)"
   ]
  },
  {
   "cell_type": "code",
   "execution_count": 4,
   "id": "02b10e0e",
   "metadata": {},
   "outputs": [],
   "source": [
    "def myfun(*argv): \n",
    "    for arg in argv:\n",
    "        print(arg)"
   ]
  },
  {
   "cell_type": "code",
   "execution_count": 5,
   "id": "fdfd46a9",
   "metadata": {},
   "outputs": [
    {
     "name": "stdout",
     "output_type": "stream",
     "text": [
      "helo\n"
     ]
    }
   ],
   "source": [
    "myfun(\"helo\")"
   ]
  },
  {
   "cell_type": "code",
   "execution_count": 28,
   "id": "6a610f5d",
   "metadata": {},
   "outputs": [],
   "source": [
    "#python function to mutiply number and no.of inputs willchange-- use *args as parameter\n",
    "#*args is a tuple\n",
    "\n",
    "def thisfun(*args):\n",
    "    c=1\n",
    "    for i in args:\n",
    "        c*=i\n",
    "        print(c)\n"
   ]
  },
  {
   "cell_type": "code",
   "execution_count": 29,
   "id": "d103f9c7",
   "metadata": {},
   "outputs": [
    {
     "name": "stdout",
     "output_type": "stream",
     "text": [
      "4\n",
      "11\n",
      "15\n",
      "22\n"
     ]
    }
   ],
   "source": [
    "\n",
    "thisfun(3,7,4,7)"
   ]
  },
  {
   "cell_type": "code",
   "execution_count": 36,
   "id": "981645d9",
   "metadata": {},
   "outputs": [],
   "source": [
    "#key word arguement--**kwargs\n",
    "\n",
    "def thisfun(**kwargs):\n",
    "    for key,value in kwargs.items():\n",
    "        print(\"%s\",value)"
   ]
  },
  {
   "cell_type": "code",
   "execution_count": 37,
   "id": "c9624ba2",
   "metadata": {},
   "outputs": [
    {
     "name": "stdout",
     "output_type": "stream",
     "text": [
      "%s greeks\n",
      "%s learning\n"
     ]
    }
   ],
   "source": [
    "thisfun(first='greeks',mid='learning')"
   ]
  },
  {
   "cell_type": "code",
   "execution_count": 38,
   "id": "42467682",
   "metadata": {},
   "outputs": [],
   "source": [
    "#Lambda function-- they are anonymous funtion-- lambda is a keyword\n",
    "#--we dont use return here\n",
    "#it is an implicit function\n"
   ]
  },
  {
   "cell_type": "code",
   "execution_count": 39,
   "id": "2f40ee05",
   "metadata": {},
   "outputs": [
    {
     "name": "stdout",
     "output_type": "stream",
     "text": [
      "sum: 30\n"
     ]
    }
   ],
   "source": [
    "#lambda--a=a+10x\n",
    "#syntax of lambda:-\n",
    "x=lambda a:a+10\n",
    "print(\"sum:\",x(20))"
   ]
  },
  {
   "cell_type": "code",
   "execution_count": 40,
   "id": "89c37c20",
   "metadata": {},
   "outputs": [
    {
     "name": "stdout",
     "output_type": "stream",
     "text": [
      "cube= 27\n"
     ]
    }
   ],
   "source": [
    "#cub of a number\n",
    "x=lambda a:a*a*a\n",
    "print(\"cube=\",x(3))"
   ]
  },
  {
   "cell_type": "code",
   "execution_count": 46,
   "id": "c560fdd0",
   "metadata": {},
   "outputs": [
    {
     "name": "stdout",
     "output_type": "stream",
     "text": [
      "cube= 12\n"
     ]
    }
   ],
   "source": [
    "x=lambda a,b:a*b\n",
    "print(\"cube=\",x(3,4))"
   ]
  },
  {
   "cell_type": "code",
   "execution_count": null,
   "id": "44febe8e",
   "metadata": {},
   "outputs": [],
   "source": []
  }
 ],
 "metadata": {
  "kernelspec": {
   "display_name": "Python 3 (ipykernel)",
   "language": "python",
   "name": "python3"
  },
  "language_info": {
   "codemirror_mode": {
    "name": "ipython",
    "version": 3
   },
   "file_extension": ".py",
   "mimetype": "text/x-python",
   "name": "python",
   "nbconvert_exporter": "python",
   "pygments_lexer": "ipython3",
   "version": "3.9.7"
  }
 },
 "nbformat": 4,
 "nbformat_minor": 5
}
