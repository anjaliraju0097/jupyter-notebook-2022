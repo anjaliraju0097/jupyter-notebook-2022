{
 "cells": [
  {
   "cell_type": "code",
   "execution_count": 1,
   "id": "ce1ac842",
   "metadata": {},
   "outputs": [],
   "source": [
    "# int,boolean, string---  are immutable"
   ]
  },
  {
   "cell_type": "code",
   "execution_count": 2,
   "id": "f13aea41",
   "metadata": {},
   "outputs": [
    {
     "ename": "SyntaxError",
     "evalue": "invalid syntax (Temp/ipykernel_3020/20083333.py, line 3)",
     "output_type": "error",
     "traceback": [
      "\u001b[1;36m  File \u001b[1;32m\"C:\\Users\\HP\\AppData\\Local\\Temp/ipykernel_3020/20083333.py\"\u001b[1;36m, line \u001b[1;32m3\u001b[0m\n\u001b[1;33m    print type(t)\u001b[0m\n\u001b[1;37m          ^\u001b[0m\n\u001b[1;31mSyntaxError\u001b[0m\u001b[1;31m:\u001b[0m invalid syntax\n"
     ]
    }
   ],
   "source": [
    "# Can not reassign \n",
    "t= \"Tutorialspoint\"\n",
    "print type(t)\n",
    "t[0] = \"M\""
   ]
  },
  {
   "cell_type": "code",
   "execution_count": 5,
   "id": "ea526550",
   "metadata": {},
   "outputs": [
    {
     "name": "stdout",
     "output_type": "stream",
     "text": [
      "b = 2397615953328\n",
      "a = 2397616261488\n",
      "n = 2397616113840\n",
      "a = 2397616261488\n",
      "n = 2397616113840\n"
     ]
    }
   ],
   "source": [
    "x = 'banana'\n",
    "for idx in range (0,5):\n",
    "    print(x[idx], \"=\", id(x[idx]))"
   ]
  },
  {
   "cell_type": "markdown",
   "id": "8c61b1af",
   "metadata": {},
   "source": [
    "Numpy--Library python numbers(if u want to put img use numpy),bcz list is low\n",
    "y is list slo--list use general info only\n",
    "deep learning,neural network --computation intensive\n"
   ]
  },
  {
   "cell_type": "code",
   "execution_count": 6,
   "id": "be380ce1",
   "metadata": {},
   "outputs": [],
   "source": [
    "#types of array-- 1d, 2d,3d arrays are there.(d- dimension)"
   ]
  },
  {
   "cell_type": "code",
   "execution_count": 10,
   "id": "d3d2cf60",
   "metadata": {},
   "outputs": [],
   "source": [
    "#how to import num\n",
    "import numpy as nppy\n",
    "#1D array\n"
   ]
  },
  {
   "cell_type": "code",
   "execution_count": 9,
   "id": "c3131657",
   "metadata": {},
   "outputs": [],
   "source": [
    "#create an array with list\n"
   ]
  },
  {
   "cell_type": "code",
   "execution_count": 18,
   "id": "a27985f2",
   "metadata": {},
   "outputs": [],
   "source": [
    "l1=[11,12,13,14]"
   ]
  },
  {
   "cell_type": "code",
   "execution_count": 19,
   "id": "6bafc296",
   "metadata": {},
   "outputs": [],
   "source": [
    "n1=np.array(l1)"
   ]
  },
  {
   "cell_type": "code",
   "execution_count": 21,
   "id": "3e282a81",
   "metadata": {},
   "outputs": [
    {
     "data": {
      "text/plain": [
       "numpy.ndarray"
      ]
     },
     "execution_count": 21,
     "metadata": {},
     "output_type": "execute_result"
    }
   ],
   "source": [
    "n1\n"
   ]
  },
  {
   "cell_type": "code",
   "execution_count": 22,
   "id": "491b6ff2",
   "metadata": {},
   "outputs": [
    {
     "data": {
      "text/plain": [
       "numpy.ndarray"
      ]
     },
     "execution_count": 22,
     "metadata": {},
     "output_type": "execute_result"
    }
   ],
   "source": [
    "type(n1) #shows the type of the array( type is the numpy arraynumpy array)"
   ]
  },
  {
   "cell_type": "code",
   "execution_count": 23,
   "id": "500ccf6c",
   "metadata": {},
   "outputs": [
    {
     "data": {
      "text/plain": [
       "(4,)"
      ]
     },
     "execution_count": 23,
     "metadata": {},
     "output_type": "execute_result"
    }
   ],
   "source": [
    "n1.shape #shows the column of the element ( it showing 4 because it is one dimensional array)"
   ]
  },
  {
   "cell_type": "code",
   "execution_count": 25,
   "id": "9707aefa",
   "metadata": {},
   "outputs": [
    {
     "data": {
      "text/plain": [
       "1"
      ]
     },
     "execution_count": 25,
     "metadata": {},
     "output_type": "execute_result"
    }
   ],
   "source": [
    "n1.ndim "
   ]
  },
  {
   "cell_type": "code",
   "execution_count": 26,
   "id": "9913239d",
   "metadata": {},
   "outputs": [
    {
     "data": {
      "text/plain": [
       "4"
      ]
     },
     "execution_count": 26,
     "metadata": {},
     "output_type": "execute_result"
    }
   ],
   "source": [
    "n1.itemsize #item size of an element or a particular element"
   ]
  },
  {
   "cell_type": "code",
   "execution_count": 27,
   "id": "8f1dafb3",
   "metadata": {},
   "outputs": [
    {
     "data": {
      "text/plain": [
       "dtype('int32')"
      ]
     },
     "execution_count": 27,
     "metadata": {},
     "output_type": "execute_result"
    }
   ],
   "source": [
    "n1.dtype "
   ]
  },
  {
   "cell_type": "markdown",
   "id": "0b547d1e",
   "metadata": {},
   "source": [
    "#Access id array\n",
    "1.n1[index]\n",
    "2.n1[slice]\n",
    "3.n1[vector]"
   ]
  },
  {
   "cell_type": "code",
   "execution_count": 29,
   "id": "2e477b92",
   "metadata": {},
   "outputs": [
    {
     "data": {
      "text/plain": [
       "14"
      ]
     },
     "execution_count": 29,
     "metadata": {},
     "output_type": "execute_result"
    }
   ],
   "source": [
    "n1[-1] #it will give you last element in the array"
   ]
  },
  {
   "cell_type": "code",
   "execution_count": 31,
   "id": "41195020",
   "metadata": {},
   "outputs": [
    {
     "data": {
      "text/plain": [
       "array([12, 13, 14])"
      ]
     },
     "execution_count": 31,
     "metadata": {},
     "output_type": "execute_result"
    }
   ],
   "source": [
    "#n1[slice]\n",
    "n1[1:4]#includes elements with in 2nd and last element"
   ]
  },
  {
   "cell_type": "code",
   "execution_count": 32,
   "id": "896a80d5",
   "metadata": {},
   "outputs": [],
   "source": [
    "#display first 2 elements of n1 using slicing "
   ]
  },
  {
   "cell_type": "code",
   "execution_count": 33,
   "id": "1da4d3c9",
   "metadata": {},
   "outputs": [
    {
     "data": {
      "text/plain": [
       "array([11, 12])"
      ]
     },
     "execution_count": 33,
     "metadata": {},
     "output_type": "execute_result"
    }
   ],
   "source": [
    "n1[:2]"
   ]
  },
  {
   "cell_type": "code",
   "execution_count": 34,
   "id": "9f9a7810",
   "metadata": {},
   "outputs": [],
   "source": [
    "#n1[vector]"
   ]
  },
  {
   "cell_type": "code",
   "execution_count": 35,
   "id": "74b2b0f6",
   "metadata": {},
   "outputs": [
    {
     "data": {
      "text/plain": [
       "array([11, 13, 14])"
      ]
     },
     "execution_count": 35,
     "metadata": {},
     "output_type": "execute_result"
    }
   ],
   "source": [
    "n1[[0,2,3]]"
   ]
  },
  {
   "cell_type": "markdown",
   "id": "bf118b6c",
   "metadata": {},
   "source": [
    "#2D array\n",
    "1.index\n",
    "2.slicing\n",
    "3.vector"
   ]
  },
  {
   "cell_type": "code",
   "execution_count": 36,
   "id": "16072364",
   "metadata": {},
   "outputs": [],
   "source": [
    "l1=[[1,2,3,4],[5,6,7,8],[9,10,11,12],[13,14,15,16]]"
   ]
  },
  {
   "cell_type": "code",
   "execution_count": 37,
   "id": "2b7dd7bc",
   "metadata": {},
   "outputs": [],
   "source": [
    "n44=np.array(l1)"
   ]
  },
  {
   "cell_type": "code",
   "execution_count": 38,
   "id": "2a47b404",
   "metadata": {},
   "outputs": [
    {
     "data": {
      "text/plain": [
       "array([[ 1,  2,  3,  4],\n",
       "       [ 5,  6,  7,  8],\n",
       "       [ 9, 10, 11, 12],\n",
       "       [13, 14, 15, 16]])"
      ]
     },
     "execution_count": 38,
     "metadata": {},
     "output_type": "execute_result"
    }
   ],
   "source": [
    "n44"
   ]
  },
  {
   "cell_type": "code",
   "execution_count": 39,
   "id": "824ca481",
   "metadata": {},
   "outputs": [
    {
     "data": {
      "text/plain": [
       "array([1, 2, 3, 4])"
      ]
     },
     "execution_count": 39,
     "metadata": {},
     "output_type": "execute_result"
    }
   ],
   "source": [
    "n44[0] #shows the 1st row"
   ]
  },
  {
   "cell_type": "code",
   "execution_count": 40,
   "id": "322eed52",
   "metadata": {},
   "outputs": [
    {
     "data": {
      "text/plain": [
       "array([13, 14, 15, 16])"
      ]
     },
     "execution_count": 40,
     "metadata": {},
     "output_type": "execute_result"
    }
   ],
   "source": [
    "n44[-1] #shows the last row"
   ]
  },
  {
   "cell_type": "code",
   "execution_count": null,
   "id": "420e289c",
   "metadata": {},
   "outputs": [],
   "source": [
    "n44[3,3] #3rd row and 3rd column"
   ]
  },
  {
   "cell_type": "code",
   "execution_count": 42,
   "id": "af20d356",
   "metadata": {},
   "outputs": [
    {
     "data": {
      "text/plain": [
       "12"
      ]
     },
     "execution_count": 42,
     "metadata": {},
     "output_type": "execute_result"
    }
   ],
   "source": [
    "n44[2,3] #2ndd row and 3rd column"
   ]
  },
  {
   "cell_type": "code",
   "execution_count": 47,
   "id": "49a66b29",
   "metadata": {},
   "outputs": [],
   "source": [
    "l=[[10,20],[30,40],[50,60]]"
   ]
  },
  {
   "cell_type": "code",
   "execution_count": 53,
   "id": "095a0567",
   "metadata": {},
   "outputs": [
    {
     "data": {
      "text/plain": [
       "array([[10, 20],\n",
       "       [30, 40],\n",
       "       [50, 60]])"
      ]
     },
     "execution_count": 53,
     "metadata": {},
     "output_type": "execute_result"
    }
   ],
   "source": [
    "s1=np.array(l)\n",
    "s1"
   ]
  },
  {
   "cell_type": "code",
   "execution_count": 58,
   "id": "ff89a7e3",
   "metadata": {},
   "outputs": [
    {
     "data": {
      "text/plain": [
       "10"
      ]
     },
     "execution_count": 58,
     "metadata": {},
     "output_type": "execute_result"
    }
   ],
   "source": [
    "s1[0,0]"
   ]
  },
  {
   "cell_type": "code",
   "execution_count": 56,
   "id": "f3622b73",
   "metadata": {},
   "outputs": [
    {
     "data": {
      "text/plain": [
       "(3, 2)"
      ]
     },
     "execution_count": 56,
     "metadata": {},
     "output_type": "execute_result"
    }
   ],
   "source": [
    "s1.shape"
   ]
  },
  {
   "cell_type": "code",
   "execution_count": 60,
   "id": "48594050",
   "metadata": {},
   "outputs": [
    {
     "data": {
      "text/plain": [
       "60"
      ]
     },
     "execution_count": 60,
     "metadata": {},
     "output_type": "execute_result"
    }
   ],
   "source": [
    "s1[-1,-1]"
   ]
  },
  {
   "cell_type": "code",
   "execution_count": null,
   "id": "1c23b5ff",
   "metadata": {},
   "outputs": [],
   "source": []
  }
 ],
 "metadata": {
  "kernelspec": {
   "display_name": "Python 3 (ipykernel)",
   "language": "python",
   "name": "python3"
  },
  "language_info": {
   "codemirror_mode": {
    "name": "ipython",
    "version": 3
   },
   "file_extension": ".py",
   "mimetype": "text/x-python",
   "name": "python",
   "nbconvert_exporter": "python",
   "pygments_lexer": "ipython3",
   "version": "3.9.7"
  }
 },
 "nbformat": 4,
 "nbformat_minor": 5
}
