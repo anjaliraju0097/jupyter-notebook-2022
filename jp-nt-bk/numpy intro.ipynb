{
 "cells": [
  {
   "cell_type": "code",
   "execution_count": 1,
   "id": "16f0eacb",
   "metadata": {},
   "outputs": [],
   "source": [
    "import numpy as np"
   ]
  },
  {
   "cell_type": "code",
   "execution_count": 2,
   "id": "05de48cc",
   "metadata": {},
   "outputs": [],
   "source": [
    "n2=np.random.randint(100,size=(6,4))"
   ]
  },
  {
   "cell_type": "code",
   "execution_count": 3,
   "id": "5eef371a",
   "metadata": {},
   "outputs": [
    {
     "data": {
      "text/plain": [
       "array([[65, 89, 19, 30],\n",
       "       [37, 60, 50,  8],\n",
       "       [89, 32, 47, 57],\n",
       "       [ 5, 44, 41, 65],\n",
       "       [82, 26, 10, 70],\n",
       "       [32, 73,  8,  2]])"
      ]
     },
     "execution_count": 3,
     "metadata": {},
     "output_type": "execute_result"
    }
   ],
   "source": [
    "n2"
   ]
  },
  {
   "cell_type": "code",
   "execution_count": 5,
   "id": "ec6b343f",
   "metadata": {},
   "outputs": [],
   "source": [
    "#predefined fns\n",
    "#eye\n",
    "#create 2 matrix\n",
    "#n34a--1,8 size 3,3\n",
    "#n34b--5,13 size 3,4"
   ]
  },
  {
   "cell_type": "code",
   "execution_count": 16,
   "id": "405d934c",
   "metadata": {},
   "outputs": [],
   "source": [
    "n34a=np.random.randint(1,8,size=(3,3))\n",
    "n34b=np.random.randint(5,13,,size=(3,3))"
   ]
  },
  {
   "cell_type": "code",
   "execution_count": 17,
   "id": "e866a0f3",
   "metadata": {},
   "outputs": [
    {
     "data": {
      "text/plain": [
       "array([[5, 1, 1],\n",
       "       [5, 6, 5],\n",
       "       [2, 3, 2]])"
      ]
     },
     "execution_count": 17,
     "metadata": {},
     "output_type": "execute_result"
    }
   ],
   "source": [
    "n34a"
   ]
  },
  {
   "cell_type": "code",
   "execution_count": 18,
   "id": "0d046bce",
   "metadata": {},
   "outputs": [
    {
     "data": {
      "text/plain": [
       "array([[10,  5,  8],\n",
       "       [ 5,  5,  5],\n",
       "       [12,  9,  9]])"
      ]
     },
     "execution_count": 18,
     "metadata": {},
     "output_type": "execute_result"
    }
   ],
   "source": [
    "n34b"
   ]
  },
  {
   "cell_type": "code",
   "execution_count": 20,
   "id": "940fcfa2",
   "metadata": {},
   "outputs": [
    {
     "data": {
      "text/plain": [
       "array([[ 67,  39,  54],\n",
       "       [140, 100, 115],\n",
       "       [ 59,  43,  49]])"
      ]
     },
     "execution_count": 20,
     "metadata": {},
     "output_type": "execute_result"
    }
   ],
   "source": [
    "n34a.dot(n34b)"
   ]
  },
  {
   "cell_type": "code",
   "execution_count": 21,
   "id": "64745816",
   "metadata": {},
   "outputs": [
    {
     "data": {
      "text/plain": [
       "3.3333333333333335"
      ]
     },
     "execution_count": 21,
     "metadata": {},
     "output_type": "execute_result"
    }
   ],
   "source": [
    "np.mean(n34a)"
   ]
  },
  {
   "cell_type": "code",
   "execution_count": 22,
   "id": "e6de3182",
   "metadata": {},
   "outputs": [
    {
     "data": {
      "text/plain": [
       "array([14, 15,  7])"
      ]
     },
     "execution_count": 22,
     "metadata": {},
     "output_type": "execute_result"
    }
   ],
   "source": [
    "np.sum(n1,axis=0)"
   ]
  },
  {
   "cell_type": "code",
   "execution_count": 23,
   "id": "89a174dc",
   "metadata": {},
   "outputs": [
    {
     "data": {
      "text/plain": [
       "30"
      ]
     },
     "execution_count": 23,
     "metadata": {},
     "output_type": "execute_result"
    }
   ],
   "source": [
    "np.sum(n34a)"
   ]
  },
  {
   "cell_type": "code",
   "execution_count": 24,
   "id": "7a0442b6",
   "metadata": {},
   "outputs": [
    {
     "data": {
      "text/plain": [
       "1"
      ]
     },
     "execution_count": 24,
     "metadata": {},
     "output_type": "execute_result"
    }
   ],
   "source": [
    "np.amin(n34a)"
   ]
  },
  {
   "cell_type": "code",
   "execution_count": 25,
   "id": "6a5a8511",
   "metadata": {},
   "outputs": [
    {
     "data": {
      "text/plain": [
       "array([[15,  6,  9],\n",
       "       [10, 11, 10],\n",
       "       [14, 12, 11]])"
      ]
     },
     "execution_count": 25,
     "metadata": {},
     "output_type": "execute_result"
    }
   ],
   "source": [
    "n3=n34a+n34b\n",
    "n3"
   ]
  },
  {
   "cell_type": "code",
   "execution_count": 26,
   "id": "7d432d23",
   "metadata": {},
   "outputs": [],
   "source": [
    "# write a python code to multiply a matrix of 2x3 by 21\n",
    "#create an identity matrix of 4D by 4\n"
   ]
  },
  {
   "cell_type": "code",
   "execution_count": 27,
   "id": "462c9312",
   "metadata": {},
   "outputs": [
    {
     "data": {
      "text/plain": [
       "array([[10,  1, 12],\n",
       "       [18,  2,  8]])"
      ]
     },
     "execution_count": 27,
     "metadata": {},
     "output_type": "execute_result"
    }
   ],
   "source": [
    "n2=np.random.randint(23,size=(2,3))\n",
    "n2"
   ]
  },
  {
   "cell_type": "code",
   "execution_count": 28,
   "id": "fc8341c4",
   "metadata": {},
   "outputs": [
    {
     "data": {
      "text/plain": [
       "array([[210,  21, 252],\n",
       "       [378,  42, 168]])"
      ]
     },
     "execution_count": 28,
     "metadata": {},
     "output_type": "execute_result"
    }
   ],
   "source": [
    "n2.dot(21)"
   ]
  },
  {
   "cell_type": "code",
   "execution_count": 29,
   "id": "536f5000",
   "metadata": {},
   "outputs": [
    {
     "data": {
      "text/plain": [
       "array([[1., 0., 0., 0.],\n",
       "       [0., 1., 0., 0.],\n",
       "       [0., 0., 1., 0.],\n",
       "       [0., 0., 0., 1.]])"
      ]
     },
     "execution_count": 29,
     "metadata": {},
     "output_type": "execute_result"
    }
   ],
   "source": [
    "np.identity(4)"
   ]
  },
  {
   "cell_type": "code",
   "execution_count": 31,
   "id": "fe73b328",
   "metadata": {},
   "outputs": [
    {
     "data": {
      "text/plain": [
       "(2, 3)"
      ]
     },
     "execution_count": 31,
     "metadata": {},
     "output_type": "execute_result"
    }
   ],
   "source": [
    "np.shape(n2)"
   ]
  },
  {
   "cell_type": "code",
   "execution_count": 45,
   "id": "4b8b4398",
   "metadata": {},
   "outputs": [
    {
     "data": {
      "text/plain": [
       "array([[1, 5, 0, 9],\n",
       "       [9, 4, 9, 9],\n",
       "       [3, 7, 4, 4],\n",
       "       [7, 0, 9, 0]])"
      ]
     },
     "execution_count": 45,
     "metadata": {},
     "output_type": "execute_result"
    }
   ],
   "source": [
    "n6=np.random.randint(10,size=(4,4))\n",
    "n6"
   ]
  },
  {
   "cell_type": "code",
   "execution_count": 46,
   "id": "800443f9",
   "metadata": {},
   "outputs": [
    {
     "data": {
      "text/plain": [
       "array([[1., 0., 0., 0.],\n",
       "       [0., 1., 0., 0.],\n",
       "       [0., 0., 1., 0.],\n",
       "       [0., 0., 0., 1.]])"
      ]
     },
     "execution_count": 46,
     "metadata": {},
     "output_type": "execute_result"
    }
   ],
   "source": [
    "np.eye(4)"
   ]
  },
  {
   "cell_type": "code",
   "execution_count": 49,
   "id": "c22efe70",
   "metadata": {},
   "outputs": [
    {
     "data": {
      "text/plain": [
       "array([[1., 0., 0., 0., 0., 0.],\n",
       "       [0., 1., 0., 0., 0., 0.],\n",
       "       [0., 0., 1., 0., 0., 0.],\n",
       "       [0., 0., 0., 1., 0., 0.],\n",
       "       [0., 0., 0., 0., 1., 0.],\n",
       "       [0., 0., 0., 0., 0., 1.]])"
      ]
     },
     "execution_count": 49,
     "metadata": {},
     "output_type": "execute_result"
    }
   ],
   "source": [
    "np.eye(6,k=0)"
   ]
  },
  {
   "cell_type": "code",
   "execution_count": 51,
   "id": "75363fee",
   "metadata": {},
   "outputs": [
    {
     "data": {
      "text/plain": [
       "array([[0., 0., 0., 1.],\n",
       "       [0., 0., 0., 0.],\n",
       "       [0., 0., 0., 0.],\n",
       "       [0., 0., 0., 0.]])"
      ]
     },
     "execution_count": 51,
     "metadata": {},
     "output_type": "execute_result"
    }
   ],
   "source": [
    "np.eye(4,k=3)"
   ]
  },
  {
   "cell_type": "code",
   "execution_count": null,
   "id": "7cccbb53",
   "metadata": {},
   "outputs": [],
   "source": []
  }
 ],
 "metadata": {
  "kernelspec": {
   "display_name": "Python 3 (ipykernel)",
   "language": "python",
   "name": "python3"
  },
  "language_info": {
   "codemirror_mode": {
    "name": "ipython",
    "version": 3
   },
   "file_extension": ".py",
   "mimetype": "text/x-python",
   "name": "python",
   "nbconvert_exporter": "python",
   "pygments_lexer": "ipython3",
   "version": "3.9.7"
  }
 },
 "nbformat": 4,
 "nbformat_minor": 5
}
