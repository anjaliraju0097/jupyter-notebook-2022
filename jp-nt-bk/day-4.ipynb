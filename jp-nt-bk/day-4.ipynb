{
 "cells": [
  {
   "cell_type": "code",
   "execution_count": null,
   "id": "75eab3a3",
   "metadata": {},
   "outputs": [],
   "source": [
    "tuple\n",
    "list\n",
    "set\n",
    "dictionary"
   ]
  },
  {
   "cell_type": "code",
   "execution_count": null,
   "id": "4a5b1eaa",
   "metadata": {},
   "outputs": [],
   "source": [
    "#python conditional statement\n",
    "1)if\n"
   ]
  },
  {
   "cell_type": "code",
   "execution_count": 4,
   "id": "095c78e4",
   "metadata": {},
   "outputs": [
    {
     "name": "stdout",
     "output_type": "stream",
     "text": [
      "100 is less than 456\n"
     ]
    }
   ],
   "source": [
    "#if\n",
    "i=100\n",
    "if(i<456):\n",
    "    print(\"100 is less than 456\")"
   ]
  },
  {
   "cell_type": "code",
   "execution_count": null,
   "id": "5c439328",
   "metadata": {},
   "outputs": [],
   "source": [
    "i=100\n",
    "if(i<135):\n",
    "    print(i,\"is less than 135\")"
   ]
  },
  {
   "cell_type": "code",
   "execution_count": null,
   "id": "7e00d0b1",
   "metadata": {},
   "outputs": [],
   "source": [
    "n=int(input(\"enter the number :\"))\n"
   ]
  },
  {
   "cell_type": "code",
   "execution_count": null,
   "id": "163fc8f2",
   "metadata": {},
   "outputs": [],
   "source": []
  },
  {
   "cell_type": "code",
   "execution_count": null,
   "id": "2218e7e8",
   "metadata": {},
   "outputs": [],
   "source": []
  }
 ],
 "metadata": {
  "kernelspec": {
   "display_name": "Python 3 (ipykernel)",
   "language": "python",
   "name": "python3"
  },
  "language_info": {
   "codemirror_mode": {
    "name": "ipython",
    "version": 3
   },
   "file_extension": ".py",
   "mimetype": "text/x-python",
   "name": "python",
   "nbconvert_exporter": "python",
   "pygments_lexer": "ipython3",
   "version": "3.9.7"
  }
 },
 "nbformat": 4,
 "nbformat_minor": 5
}
