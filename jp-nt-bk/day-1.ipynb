{
 "cells": [
  {
   "cell_type": "code",
   "execution_count": 1,
   "id": "2a3a8084",
   "metadata": {},
   "outputs": [],
   "source": [
    "#this is code notebook"
   ]
  },
  {
   "cell_type": "code",
   "execution_count": 2,
   "id": "a36fce88",
   "metadata": {},
   "outputs": [
    {
     "data": {
      "text/plain": [
       "'good morning'"
      ]
     },
     "execution_count": 2,
     "metadata": {},
     "output_type": "execute_result"
    }
   ],
   "source": [
    "s1='good morning'\n",
    "s1"
   ]
  },
  {
   "cell_type": "code",
   "execution_count": 3,
   "id": "820ccdc0",
   "metadata": {},
   "outputs": [
    {
     "data": {
      "text/plain": [
       "4"
      ]
     },
     "execution_count": 3,
     "metadata": {},
     "output_type": "execute_result"
    }
   ],
   "source": [
    "a=4\n",
    "a"
   ]
  },
  {
   "cell_type": "code",
   "execution_count": 4,
   "id": "6bc40491",
   "metadata": {},
   "outputs": [
    {
     "data": {
      "text/plain": [
       "3.7"
      ]
     },
     "execution_count": 4,
     "metadata": {},
     "output_type": "execute_result"
    }
   ],
   "source": [
    "e=3.7\n",
    "e\n"
   ]
  },
  {
   "cell_type": "code",
   "execution_count": 5,
   "id": "d3af71b6",
   "metadata": {},
   "outputs": [
    {
     "name": "stdout",
     "output_type": "stream",
     "text": [
      "good morning\n",
      "4\n",
      "3.7\n"
     ]
    }
   ],
   "source": [
    "print(s1)\n",
    "print(a)\n",
    "print(e)"
   ]
  },
  {
   "cell_type": "code",
   "execution_count": 9,
   "id": "d521b94b",
   "metadata": {},
   "outputs": [
    {
     "data": {
      "text/plain": [
       "False"
      ]
     },
     "execution_count": 9,
     "metadata": {},
     "output_type": "execute_result"
    }
   ],
   "source": [
    "b=False\n",
    "b"
   ]
  },
  {
   "cell_type": "code",
   "execution_count": 8,
   "id": "89f5f497",
   "metadata": {},
   "outputs": [
    {
     "name": "stdout",
     "output_type": "stream",
     "text": [
      "good morning\n",
      "4\n",
      "3.7\n",
      "False\n"
     ]
    }
   ],
   "source": [
    "print(s1)\n",
    "print(a)\n",
    "print(e)\n",
    "print(b)"
   ]
  },
  {
   "cell_type": "code",
   "execution_count": 11,
   "id": "04cdf82d",
   "metadata": {},
   "outputs": [
    {
     "name": "stdout",
     "output_type": "stream",
     "text": [
      "p= 10\n",
      "q= 20\n",
      "r= 30\n"
     ]
    }
   ],
   "source": [
    "p,q,r=10,20,30\n",
    "print(\"p=\",p)\n",
    "print(\"q=\",q)\n",
    "print(\"r=\",r)\n"
   ]
  },
  {
   "cell_type": "code",
   "execution_count": 14,
   "id": "b14b26de",
   "metadata": {},
   "outputs": [
    {
     "name": "stdout",
     "output_type": "stream",
     "text": [
      "<class 'float'>\n"
     ]
    }
   ],
   "source": [
    "a=4\n",
    "b=0.9\n",
    "c=a+b\n",
    "c\n",
    "print(type(b))"
   ]
  },
  {
   "cell_type": "code",
   "execution_count": 17,
   "id": "e393b375",
   "metadata": {},
   "outputs": [
    {
     "data": {
      "text/plain": [
       "60.0"
      ]
     },
     "execution_count": 17,
     "metadata": {},
     "output_type": "execute_result"
    }
   ],
   "source": [
    "a=50.0\n",
    "b='10'\n",
    "c=a+int(b)\n",
    "c"
   ]
  },
  {
   "cell_type": "code",
   "execution_count": 19,
   "id": "ff68806f",
   "metadata": {},
   "outputs": [
    {
     "data": {
      "text/plain": [
       "-1"
      ]
     },
     "execution_count": 19,
     "metadata": {},
     "output_type": "execute_result"
    }
   ],
   "source": [
    "a=3-4\n",
    "a"
   ]
  },
  {
   "cell_type": "code",
   "execution_count": 21,
   "id": "38276fb5",
   "metadata": {},
   "outputs": [
    {
     "data": {
      "text/plain": [
       "35"
      ]
     },
     "execution_count": 21,
     "metadata": {},
     "output_type": "execute_result"
    }
   ],
   "source": [
    "a=5\n",
    "b=7\n",
    "c=a*b\n",
    "c"
   ]
  },
  {
   "cell_type": "code",
   "execution_count": 22,
   "id": "a329315a",
   "metadata": {},
   "outputs": [
    {
     "ename": "TypeError",
     "evalue": "can't multiply sequence by non-int of type 'str'",
     "output_type": "error",
     "traceback": [
      "\u001b[1;31m---------------------------------------------------------------------------\u001b[0m",
      "\u001b[1;31mTypeError\u001b[0m                                 Traceback (most recent call last)",
      "\u001b[1;32m~\\AppData\\Local\\Temp/ipykernel_5540/3434497956.py\u001b[0m in \u001b[0;36m<module>\u001b[1;34m\u001b[0m\n\u001b[0;32m      1\u001b[0m \u001b[0ma\u001b[0m\u001b[1;33m=\u001b[0m\u001b[1;34m'great'\u001b[0m\u001b[1;33m\u001b[0m\u001b[1;33m\u001b[0m\u001b[0m\n\u001b[0;32m      2\u001b[0m \u001b[0mb\u001b[0m\u001b[1;33m=\u001b[0m\u001b[1;34m'learning'\u001b[0m\u001b[1;33m\u001b[0m\u001b[1;33m\u001b[0m\u001b[0m\n\u001b[1;32m----> 3\u001b[1;33m \u001b[0mc\u001b[0m\u001b[1;33m=\u001b[0m\u001b[0ma\u001b[0m\u001b[1;33m*\u001b[0m\u001b[0mb\u001b[0m\u001b[1;33m\u001b[0m\u001b[1;33m\u001b[0m\u001b[0m\n\u001b[0m\u001b[0;32m      4\u001b[0m \u001b[0mc\u001b[0m\u001b[1;33m\u001b[0m\u001b[1;33m\u001b[0m\u001b[0m\n",
      "\u001b[1;31mTypeError\u001b[0m: can't multiply sequence by non-int of type 'str'"
     ]
    }
   ],
   "source": [
    "a='great'\n",
    "b='learning'\n",
    "c=a*b\n",
    "c"
   ]
  },
  {
   "cell_type": "code",
   "execution_count": 24,
   "id": "ed84774a",
   "metadata": {},
   "outputs": [
    {
     "data": {
      "text/plain": [
       "10"
      ]
     },
     "execution_count": 24,
     "metadata": {},
     "output_type": "execute_result"
    }
   ],
   "source": [
    "a=100\n",
    "b=10\n",
    "c=a//b\n",
    "c"
   ]
  },
  {
   "cell_type": "code",
   "execution_count": 25,
   "id": "cb6964a9",
   "metadata": {},
   "outputs": [
    {
     "data": {
      "text/plain": [
       "100"
      ]
     },
     "execution_count": 25,
     "metadata": {},
     "output_type": "execute_result"
    }
   ],
   "source": [
    "x=10\n",
    "c=x*x\n",
    "c\n"
   ]
  },
  {
   "cell_type": "code",
   "execution_count": 27,
   "id": "738571a4",
   "metadata": {},
   "outputs": [
    {
     "data": {
      "text/plain": [
       "10000000000"
      ]
     },
     "execution_count": 27,
     "metadata": {},
     "output_type": "execute_result"
    }
   ],
   "source": [
    "x=10\n",
    "c=x**x\n",
    "c"
   ]
  },
  {
   "cell_type": "code",
   "execution_count": 28,
   "id": "5d1c04c5",
   "metadata": {},
   "outputs": [
    {
     "data": {
      "text/plain": [
       "'abc'"
      ]
     },
     "execution_count": 28,
     "metadata": {},
     "output_type": "execute_result"
    }
   ],
   "source": [
    "#strings\n",
    "'a'+'b'+'c'"
   ]
  },
  {
   "cell_type": "code",
   "execution_count": 32,
   "id": "faeb1a0f",
   "metadata": {},
   "outputs": [
    {
     "data": {
      "text/plain": [
       "'great learning'"
      ]
     },
     "execution_count": 32,
     "metadata": {},
     "output_type": "execute_result"
    }
   ],
   "source": [
    "'great '+'learning'"
   ]
  },
  {
   "cell_type": "code",
   "execution_count": 36,
   "id": "c0b8d417",
   "metadata": {},
   "outputs": [
    {
     "data": {
      "text/plain": [
       "'IDoIDoIDo'"
      ]
     },
     "execution_count": 36,
     "metadata": {},
     "output_type": "execute_result"
    }
   ],
   "source": [
    "s='IDo'*3\n",
    "s"
   ]
  },
  {
   "cell_type": "code",
   "execution_count": 37,
   "id": "e36f5ee0",
   "metadata": {},
   "outputs": [
    {
     "name": "stdout",
     "output_type": "stream",
     "text": [
      "13\n"
     ]
    }
   ],
   "source": [
    "a='good morning '\n",
    "print(len(a))"
   ]
  },
  {
   "cell_type": "code",
   "execution_count": 38,
   "id": "16bde617",
   "metadata": {},
   "outputs": [
    {
     "data": {
      "text/plain": [
       "'GOOD MORNING '"
      ]
     },
     "execution_count": 38,
     "metadata": {},
     "output_type": "execute_result"
    }
   ],
   "source": [
    "a.upper()"
   ]
  },
  {
   "cell_type": "code",
   "execution_count": 39,
   "id": "69d93ecc",
   "metadata": {},
   "outputs": [
    {
     "data": {
      "text/plain": [
       "'good morning '"
      ]
     },
     "execution_count": 39,
     "metadata": {},
     "output_type": "execute_result"
    }
   ],
   "source": [
    "a.lower()"
   ]
  },
  {
   "cell_type": "code",
   "execution_count": 41,
   "id": "760fb057",
   "metadata": {},
   "outputs": [
    {
     "data": {
      "text/plain": [
       "'Good Morning '"
      ]
     },
     "execution_count": 41,
     "metadata": {},
     "output_type": "execute_result"
    }
   ],
   "source": [
    "a.title()"
   ]
  },
  {
   "cell_type": "code",
   "execution_count": 42,
   "id": "0b0d3890",
   "metadata": {},
   "outputs": [
    {
     "data": {
      "text/plain": [
       "'good morNiNg '"
      ]
     },
     "execution_count": 42,
     "metadata": {},
     "output_type": "execute_result"
    }
   ],
   "source": [
    "a.replace('n','N')"
   ]
  },
  {
   "cell_type": "code",
   "execution_count": 43,
   "id": "52f7ef27",
   "metadata": {},
   "outputs": [
    {
     "data": {
      "text/plain": [
       "'w'"
      ]
     },
     "execution_count": 43,
     "metadata": {},
     "output_type": "execute_result"
    }
   ],
   "source": [
    "a='hello world'\n",
    "a[6]"
   ]
  },
  {
   "cell_type": "code",
   "execution_count": 44,
   "id": "fbdf9cda",
   "metadata": {},
   "outputs": [
    {
     "data": {
      "text/plain": [
       "'lo w'"
      ]
     },
     "execution_count": 44,
     "metadata": {},
     "output_type": "execute_result"
    }
   ],
   "source": [
    "a[3:7]"
   ]
  },
  {
   "cell_type": "code",
   "execution_count": 45,
   "id": "55f59831",
   "metadata": {},
   "outputs": [
    {
     "data": {
      "text/plain": [
       "'hello w'"
      ]
     },
     "execution_count": 45,
     "metadata": {},
     "output_type": "execute_result"
    }
   ],
   "source": [
    "a[:7]"
   ]
  },
  {
   "cell_type": "code",
   "execution_count": 46,
   "id": "66f7da5f",
   "metadata": {},
   "outputs": [
    {
     "data": {
      "text/plain": [
       "'llo world'"
      ]
     },
     "execution_count": 46,
     "metadata": {},
     "output_type": "execute_result"
    }
   ],
   "source": [
    "a[2:]"
   ]
  },
  {
   "cell_type": "code",
   "execution_count": 60,
   "id": "5c4474e8",
   "metadata": {},
   "outputs": [
    {
     "data": {
      "text/plain": [
       "'great'"
      ]
     },
     "execution_count": 60,
     "metadata": {},
     "output_type": "execute_result"
    }
   ],
   "source": [
    "a='great learning'\n",
    "a[:5]"
   ]
  },
  {
   "cell_type": "code",
   "execution_count": 54,
   "id": "9413b604",
   "metadata": {},
   "outputs": [
    {
     "data": {
      "text/plain": [
       "'eat learning'"
      ]
     },
     "execution_count": 54,
     "metadata": {},
     "output_type": "execute_result"
    }
   ],
   "source": [
    "a[:12]"
   ]
  },
  {
   "cell_type": "code",
   "execution_count": 56,
   "id": "6fa958b2",
   "metadata": {},
   "outputs": [
    {
     "data": {
      "text/plain": [
       "'eat learn'"
      ]
     },
     "execution_count": 56,
     "metadata": {},
     "output_type": "execute_result"
    }
   ],
   "source": [
    "a[:9]"
   ]
  },
  {
   "cell_type": "code",
   "execution_count": 62,
   "id": "b8d2a339",
   "metadata": {},
   "outputs": [
    {
     "data": {
      "text/plain": [
       "'great learnin'"
      ]
     },
     "execution_count": 62,
     "metadata": {},
     "output_type": "execute_result"
    }
   ],
   "source": [
    "a[:-1]"
   ]
  },
  {
   "cell_type": "code",
   "execution_count": 61,
   "id": "d93bf5ae",
   "metadata": {},
   "outputs": [
    {
     "data": {
      "text/plain": [
       "'gninrael taerg'"
      ]
     },
     "execution_count": 61,
     "metadata": {},
     "output_type": "execute_result"
    }
   ],
   "source": [
    "a[::-1]"
   ]
  },
  {
   "cell_type": "code",
   "execution_count": 64,
   "id": "bc321e25",
   "metadata": {},
   "outputs": [
    {
     "data": {
      "text/plain": [
       "'gnineve doog'"
      ]
     },
     "execution_count": 64,
     "metadata": {},
     "output_type": "execute_result"
    }
   ],
   "source": [
    "a='good evening'\n",
    "a[::-1]"
   ]
  },
  {
   "cell_type": "code",
   "execution_count": null,
   "id": "d7344c2e",
   "metadata": {},
   "outputs": [],
   "source": []
  }
 ],
 "metadata": {
  "kernelspec": {
   "display_name": "Python 3 (ipykernel)",
   "language": "python",
   "name": "python3"
  },
  "language_info": {
   "codemirror_mode": {
    "name": "ipython",
    "version": 3
   },
   "file_extension": ".py",
   "mimetype": "text/x-python",
   "name": "python",
   "nbconvert_exporter": "python",
   "pygments_lexer": "ipython3",
   "version": "3.9.7"
  }
 },
 "nbformat": 4,
 "nbformat_minor": 5
}
